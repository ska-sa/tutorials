{
 "cells": [
  {
   "cell_type": "markdown",
   "metadata": {},
   "source": [
    "##Questions ##\n"
   ]
  },
  {
   "cell_type": "markdown",
   "metadata": {},
   "source": [
    "1.) There is a proposal to orbit a radar satellite that transmits at 94 GHz downward while moving in a polar orbit at an altitude of 500 km .  If the power is transmited over a hemisphere with a peak power of 1500W that is distrobuted uniformly over a bandwidth of 1 GHz .<br>\n",
    "(a)What is the peak flux density of this satellite when it is overhead (assuming no adsorbtion from the earths atmosphere)<br>\n",
    "(b) The satellite is transmitting 3% of the time (dutycycle) what is the average power radiated and the flux density <br>"
   ]
  },
  {
   "cell_type": "markdown",
   "metadata": {},
   "source": [
    "2.) The intensity of the Sun peaks in the optical range at a frequency of about $3.4 \\times 10^{14}$ Hz. <br>\n",
    "(a)What is the tempreture of the Sun ? Use http://en.wikipedia.org/wiki/Wien%27s_displacement_law . <br>\n",
    "(b)If all the power is emitted between  $3 \\times 10^{14}$ Hz and  $4 \\times 10^{14}$ Hz.  how many photons per $m^2$ arrive on Earth when the Sun is overhead.  <br>\n",
    "(c)What is the power received on Earth per $m^2$? <br>\n",
    "(d)For solar power a value of 135 mW per $cm^2$ is obtained how does this compare to your answer? <br>"
   ]
  },
  {
   "cell_type": "markdown",
   "metadata": {},
   "source": [
    "3.)<br>\n",
    "(a)If Jupiter has $T_B$ = 150K with a angular size of $\\theta = 40\"$ what is $S_\\nu$ at 1.4 GHz and at 115 GHz?<br>\n",
    "(b)If a HII region has a $T_B$ = 330K with a angular size of $\\theta = 2.5'$ what is $S_\\nu$ at 4.8 GHz and at 23 GHz?<br>\n",
    "(c)The Moon has a $T_B \\approx 200K$ what is $S_\\nu$ at 1.4 GHz and at 115 GHz?<br>"
   ]
  },
  {
   "cell_type": "markdown",
   "metadata": {},
   "source": [
    "4.)It is a warm day($25^\\circ$C), and you are observing a point-source calibrator that has a flux density of 1 Jy. \n",
    "However, you measure a flux density of only 800 mJy. <br>\n",
    "(a) What is the observed atmospheric opacity, $\u001c",
    "\\tau_A$? <br>\n",
    "(b) If the observation was being made at an elevation of 30 degrees above the horizon,\n",
    "estimate the zenith opacity, \u001c",
    "$\\tau_Z$. <br>\n",
    "(c) Estimate what the measured flux density would have been at an elevation of 15\n",
    "degrees above the horizon. <br>\n"
   ]
  },
  {
   "cell_type": "markdown",
   "metadata": {},
   "source": [
    "5.) At lower frequencys in the radio spectrum we do not see other stars dominating the sky as in optical frequencys.<br>\n",
    "a.) Calculate the flux density in Janskys of the Sun which has a near black body spectrum and a $T_\\odot = 5800$K  at 1 GHz<br>\n",
    "b.) If the Sun now had a distance of 47 parsecs (eg. Hyades star cluster) what would its flux density be in Janskys be at 1 GHz<br>\n",
    "c.) If the Sun now had a distance of 1 Mpc (eg. The Andromeda Galaxy ) what would its flux density be in Janskys be at 1 GHz<br>"
   ]
  },
  {
   "cell_type": "markdown",
   "metadata": {},
   "source": [
    "6.a) What is the Flux Density in Janskys (Jy) of a Microwave Oven that has an output of 1000 W with a bandwidth of 1 MHz at 10 Meters? (Assume it radiates in all directions (over all angles) uniformaly and uniformaly emmited over the bandwidth of 1MHz)<br>\n",
    "b.) If the microwave oven shilding provides about 25dB reduction in the radiation out side of the box, (The Power is now 2.8W instead of 1000W) what is the Flux density in Janskys, from the Microwave oven when it is 100Km away.  <br>\n",
    "c.) Consider what this means if you want to measure flux densitys down to a level of $10^{-9}$ Jy as planned with the SKA.  "
   ]
  }
 ],
 "metadata": {
  "kernelspec": {
   "display_name": "Python 2",
   "language": "python",
   "name": "python2"
  },
  "language_info": {
   "codemirror_mode": {
    "name": "ipython",
    "version": 2
   },
   "file_extension": ".py",
   "mimetype": "text/x-python",
   "name": "python",
   "nbconvert_exporter": "python",
   "pygments_lexer": "ipython2",
   "version": "2.7.6"
  }
 },
 "nbformat": 4,
 "nbformat_minor": 0
}

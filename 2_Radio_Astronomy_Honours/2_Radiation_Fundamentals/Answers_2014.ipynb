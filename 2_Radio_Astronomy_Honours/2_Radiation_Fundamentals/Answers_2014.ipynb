{
 "cells": [
  {
   "cell_type": "markdown",
   "metadata": {},
   "source": [
    "##Answers 2014"
   ]
  },
  {
   "cell_type": "code",
   "execution_count": 8,
   "metadata": {
    "collapsed": false
   },
   "outputs": [
    {
     "name": "stdout",
     "output_type": "stream",
     "text": [
      "Populating the interactive namespace from numpy and matplotlib\n"
     ]
    },
    {
     "name": "stderr",
     "output_type": "stream",
     "text": [
      "WARNING: pylab import has clobbered these variables: ['power']\n",
      "`%matplotlib` prevents importing * from pylab and numpy\n"
     ]
    }
   ],
   "source": [
    "import numpy as np\n",
    "%pylab inline"
   ]
  },
  {
   "cell_type": "markdown",
   "metadata": {},
   "source": [
    "1.) There is a proposal to orbit a radar satellite that transmits at 94 GHz downward while moving in a polar orbit at an altitude of 500 km .  If the power is transmited over a hemisphere with a peak power of 1500W that is distrobuted uniformly over a bandwidth of 1 GHz .<br>\n",
    "\n",
    "1.a) What is the peak flux density of this satellite when it is overhead (assuming no absorbtion from the earths atmosphere)<br>\n",
    "1.b) The satellite is transmitting 3% of the time (dutycycle) what is the average power radiated and the flux density <br>"
   ]
  },
  {
   "cell_type": "markdown",
   "metadata": {},
   "source": [
    "In the Figure below, R is the Earths radius, d is the orbital height, \n",
    "Rp is the radius of the beam of radiation that is being broadcast.\n",
    "And A1 is half the beam width. \n",
    "<img src=\"Diagram.png\">\n",
    "To Calculate the Flux density for a point on Earth (the intersection of $R_p$ and d) we need to work out the amount of power that the beam has spread, at a distance of d=500km from the satellite. The angle of the Beam A1 can be calculated by $\\sin(A1) = \\frac{R}{R+d} $ . We can then calculate the Area that the power is spread over at a distance by working out the distance $R_p=\\tan(A1) d $  and the  Area = $\\pi r^2 =  \\pi \\, R_p^2 $ .\n",
    "\n",
    "The flux density is then $S_\\nu = \\frac{\\rm Power}{\\rm {Area}*\\rm{Bandwidth}}    \\,\\,\\,\\,\\,  [\\frac{\\rm Watts}{m^2 Hz^1}]$ \n"
   ]
  },
  {
   "cell_type": "code",
   "execution_count": 9,
   "metadata": {
    "collapsed": false
   },
   "outputs": [
    {
     "name": "stdout",
     "output_type": "stream",
     "text": [
      "The peak power radiated is 1500  Watts\n",
      "The peak flux density is 3.115371e+07 Jy   or 3.115371e-19 Watts/(m^2 Hz^1)\n",
      "The average power radiated is 45  Watts\n",
      "The average flux density is 9.346113e+05 Jy   or  9.346113e-21 Watts/(m^2 Hz^1)\n"
     ]
    }
   ],
   "source": [
    "d = 500000.    # The orbital height in Meters\n",
    "Re = 6371000.  # Earths Radius in Meters\n",
    "power = 1500.  # The Power of the Transmitter\n",
    "theta = np.arcsin(Re/(Re+d))\n",
    "def flux_density(power,theta,d,bandwidth = 10**9):\n",
    "    area  = np.pi*(d*np.tan(theta))**2\n",
    "    return power/(area*bandwidth)\n",
    "print(\"The peak power radiated is %g  Watts\"%(power) )\n",
    "print(\"The peak flux density is %e Jy   or %e Watts/(m^2 Hz^1)\"%( flux_density(power,theta,d)/10**-26,flux_density(power,theta,d) ))\n",
    "print(\"The average power radiated is %g  Watts\"%(power*0.03) )\n",
    "print(\"The average flux density is %e Jy   or  %e Watts/(m^2 Hz^1)\"%( flux_density(power*0.03,theta,d)/10**-26,flux_density(power*0.03,theta,d) ))\n",
    "\n"
   ]
  },
  {
   "cell_type": "markdown",
   "metadata": {},
   "source": [
    "2.) The intensity of the Sun peaks in the optical range at a frequency of about $3.4 \\times 10^{14}$ Hz. <br>\n",
    "2.a.) What is the tempreture of the Sun ? Use http://en.wikipedia.org/wiki/Wien%27s_displacement_law . <br>\n",
    "2.b.) If all the power is emitted between  $3 \\times 10^{14}$ Hz and  $4 \\times 10^{14}$ Hz.  how many photons per $m^2$ arrive on Earth when the Sun is overhead.  <br>\n",
    "2.c.) What is the power received on Earth per $m^2$? <br>\n",
    "2.d.) For solar power a value of 135 mW per $cm^2$ is obtained how does this compare to your answer? <br>\n"
   ]
  },
  {
   "cell_type": "markdown",
   "metadata": {},
   "source": [
    "\n",
    " Wien's displacement law is  $\\nu_{max}  = 5.879\\times10^{10}\\, T $<br>\n",
    " \n",
    " $T = \\frac{\\nu_{max}}{5.879\\times10^{10}}$\n",
    "\n",
    "Note: you can not use the wavelength relation with the frequency of the maximum point because the relation is found by taking the derivative of the plank function and frequency is not a linear function of wavelength. "
   ]
  },
  {
   "cell_type": "code",
   "execution_count": 10,
   "metadata": {
    "collapsed": false
   },
   "outputs": [
    {
     "name": "stdout",
     "output_type": "stream",
     "text": [
      "The Suns tempreture is 5783.3 K \n"
     ]
    }
   ],
   "source": [
    "nu =3.4*10**14 # frequency in Hz \n",
    "T = nu/(5.879*10**10)\n",
    "print(\"The Suns tempreture is %g K \"%(T) )"
   ]
  },
  {
   "cell_type": "markdown",
   "metadata": {},
   "source": [
    "To work out the number of photons per $m^2$ you \n",
    "need to divide the energy density per Herts by \n",
    "the energy of the photons at that frequency \n",
    "and then intergrate over the frequency range.\n",
    "\n",
    "To work out the flux density you need to work out the angular size of the Sun.\n",
    "The angular radius of the Sun viewed from the Earth is $\\theta_{\\odot} = sin^{-1}\\left( \\frac{R_{\\odot}}{r_{\\odot}} \\right)$"
   ]
  },
  {
   "cell_type": "code",
   "execution_count": 11,
   "metadata": {
    "collapsed": false
   },
   "outputs": [
    {
     "name": "stdout",
     "output_type": "stream",
     "text": [
      "4.679224e-03 rad or 0.268100 degrees \n"
     ]
    }
   ],
   "source": [
    "rdot = 1.49598e11\n",
    "Rdot = 7.0e8\n",
    "theta = np.arcsin(Rdot/rdot)\n",
    "print \"%e rad or %f degrees \"%(theta,np.degrees(theta))"
   ]
  },
  {
   "cell_type": "markdown",
   "metadata": {},
   "source": [
    "The flux density of the sun is <br>\n",
    "$$S_{\\nu} \\equiv \\int_{source} B_{\\nu}(\\theta,\\phi) cos \\theta d\\Omega$$ with $$d\\Omega = sin\\theta d\\theta d\\phi$$ <br>\n",
    "\n",
    "The spectral intensity of the Sun(blackbody)\n",
    "$$B_\\nu = {2 h \\nu^3 \\over c^2} {1 \\over \\exp\\bigl({h \\nu \\over k T}\\bigr)-1}$$\n",
    "\n",
    "The number of photons is \n",
    "$$\\int \\frac{S_\\nu}{h\\nu} d\\nu $$.\n",
    "\n"
   ]
  },
  {
   "cell_type": "code",
   "execution_count": 12,
   "metadata": {
    "collapsed": false
   },
   "outputs": [
    {
     "name": "stdout",
     "output_type": "stream",
     "text": [
      "The Number of Photons from the Sun is  1.084589e+21 per m^2\n"
     ]
    }
   ],
   "source": [
    "# I have chosen not to use python lambda functions to make it a bit more readable \n",
    "from scipy.integrate import quad \n",
    "h=6.6244e-34 # Planck constant in Js\n",
    "c=2.998e8     # speed of light in m/s\n",
    "k=1.38e-23    #Boltzmann constant in J/K%\n",
    "\n",
    "def blackbody(nu,T):\n",
    "    return (2*h*nu**3/c**2)/(np.exp(h*nu/(k*T))-1)\n",
    "\n",
    "def func(theta,nu,T):\n",
    "    return blackbody(nu,T)*np.cos(theta)*np.sin(theta)\n",
    "\n",
    "def S_nu(nu,theta,T):\n",
    "    return 2*np.pi*quad(func, 0, theta,(nu,T))[0]\n",
    "\n",
    "def func2(nu,theta,T):\n",
    "    return S_nu(nu,theta,T)/(h*nu)\n",
    "\n",
    "Photons = quad(func2, 3.0*10**14,4.0*10**14,(theta,T))[0]\n",
    "\n",
    "print \"The Number of Photons from the Sun is  %e per m^2\"%(Photons)"
   ]
  },
  {
   "cell_type": "code",
   "execution_count": 13,
   "metadata": {
    "collapsed": false
   },
   "outputs": [
    {
     "name": "stdout",
     "output_type": "stream",
     "text": [
      "The power receved from the Sun is  249.648 Watts per m^2\n"
     ]
    }
   ],
   "source": [
    "power = quad(S_nu, 3.0*10**14,4.0*10**14,(theta,T))[0]\n",
    "\n",
    "print \"The power receved from the Sun is  %g Watts per m^2\"%(power)"
   ]
  },
  {
   "cell_type": "markdown",
   "metadata": {},
   "source": [
    "135mW per $cm^2$ is 1350 mW per $m^2$ this is $\\approx 20$%, this is most likly due to the bandwidth that was used. This can be seen by having a larger frequency range as seen below."
   ]
  },
  {
   "cell_type": "code",
   "execution_count": 14,
   "metadata": {
    "collapsed": false
   },
   "outputs": [
    {
     "name": "stdout",
     "output_type": "stream",
     "text": [
      "The power receved from the Sun is  1387.23 Watts per m^2\n"
     ]
    }
   ],
   "source": [
    "power = quad(S_nu, 0.,10**16,(theta,T))[0]\n",
    "print \"The power receved from the Sun is  %g Watts per m^2\"%(power)"
   ]
  }
 ],
 "metadata": {
  "kernelspec": {
   "display_name": "Python 2",
   "language": "python",
   "name": "python2"
  },
  "language_info": {
   "codemirror_mode": {
    "name": "ipython",
    "version": 2
   },
   "file_extension": ".py",
   "mimetype": "text/x-python",
   "name": "python",
   "nbconvert_exporter": "python",
   "pygments_lexer": "ipython2",
   "version": "2.7.6"
  }
 },
 "nbformat": 4,
 "nbformat_minor": 0
}

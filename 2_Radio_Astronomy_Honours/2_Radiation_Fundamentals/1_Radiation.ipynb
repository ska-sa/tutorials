{
 "cells": [
  {
   "cell_type": "markdown",
   "metadata": {},
   "source": [
    "#Radiation#"
   ]
  },
  {
   "cell_type": "code",
   "execution_count": 10,
   "metadata": {
    "collapsed": false
   },
   "outputs": [
    {
     "name": "stdout",
     "output_type": "stream",
     "text": [
      "Populating the interactive namespace from numpy and matplotlib\n"
     ]
    }
   ],
   "source": [
    "%pylab inline\n",
    "# import Relevent functions  \n",
    "import numpy as np  # numerical python functions and data structures\n"
   ]
  },
  {
   "cell_type": "markdown",
   "metadata": {},
   "source": [
    "The brightness and flux density of a star at a set distance\n",
    "\n",
    "We distinguish between the brightness of the Sun, which does not depend on distance, and the apparent flux, which does.\n",
    "\n",
    "The quantitative definition of specific intensity or spectral brightness is\n",
    "\n",
    "$ I_{\\nu} \\equiv \\frac{dP}{\\cos{\\theta}d\\sigma d\\Omega}$\n",
    "\n",
    "\n",
    "$d\\sigma$ = infinitesimal surface area (e.g., of a detector)\n",
    "\n",
    "$\\theta$ = the angle between a \"ray\" of radiation and the normal to the surface $d\\sigma$ \n",
    "\n",
    "$d\\Omega$ = infinitesimal solid angle measured at the observer's location\n",
    "\n",
    "\n"
   ]
  },
  {
   "cell_type": "markdown",
   "metadata": {},
   "source": [
    "<img src=\"http://www.cv.nrao.edu/course/astr534/images/brtdef.svg\" ></img>\n",
    "If energy $dE_{\\nu}$ flows through $d\\sigma$ in time $dt$ in the frequency range to $\\nu$ to   $\\nu +d\\nu$ within the solid angle $d\\Omega$ on a ray which points an angle $\\theta$ away from the surface normal, then the flow of energy is \n",
    "\n",
    "$dE_{\\nu}=I_{\\nu}cos(\\theta) d\\sigma d\\Omega dt d\\nu $\n",
    "\n",
    "The power $dP$ received in the solid angle $d\\Omega$ and in the frequency range to $\\nu$ to   $\\nu +d\\nu$ is \n",
    "\n",
    "$dP_{\\nu}=I_{\\nu}cos(\\theta) d\\sigma d\\Omega d\\nu  $\n",
    "\n",
    "Note : $dP_{\\nu} = \\frac{dE_{\\nu}}{dt}$\n",
    "\n",
    "$\\therefore$   $I_{\\nu} \\equiv \\frac{dP_{\\nu}}{cos(\\theta) d\\sigma d\\Omega d\\nu }$"
   ]
  },
  {
   "cell_type": "markdown",
   "metadata": {},
   "source": [
    "##Theorem: Specific intensity is conserved (is constant) along any ray in empty space.##\n",
    "\n",
    "This follows directly from geometry.  Consider two surfaces, d1 and d2 along a ray of length r.\n",
    "<img src='http://www.cv.nrao.edu/course/astr534/images/brtcon.svg'>\n",
    "\n",
    "Let $d\\Omega_1$ be the solid angle subtended by  $d\\sigma_2$ as seen from the center of the surface $d\\sigma_1$.<br>\n",
    "Let $d\\Omega_1$  be the solid angle subtended by  $d\\sigma_1$ as seen from the center of the surface $d\\sigma_2$.<br>\n",
    "Then<br>\n",
    "$d\\Omega_1= \\frac{cos\\theta_2 d\\sigma_2 }{r^2}$\n",
    "\n",
    "$d\\Omega_2= \\frac{cos\\theta_1 d\\sigma_1 }{r^2}$\n",
    "\n",
    "\n",
    "The energy $dW_1$ flowing through the area $d\\sigma_1$  in solid angle  $d\\Omega_1$ is<br>\n",
    "$dW_1=(I_{\\nu})_1 cos\\theta_1 d\\Omega_1 d\\sigma_1 d\\nu$\n",
    "\n",
    "$dW_1=(I_{\\nu})_1 cos\\theta_1  \\frac{cos\\theta_2 d\\sigma_2 }{r^2} d\\sigma_1 d\\nu$\n",
    "\n",
    "Likewise<br>\n",
    "$dW_2=(I_{\\nu})_2 cos\\theta_2  \\frac{cos\\theta_1 d\\sigma_1 }{r^2} d\\sigma_2 d\\nu$\n",
    "\n",
    "Since the radiation energy is conserved in free space (where there is no absorption or emission), $dW_1=dW_2$, so<br>\n",
    "$(I)_1=(I)_2$\n",
    "\n",
    "\n",
    "This conservation theorem has two important consequences:\n",
    "\n",
    "(1) Brightness is independent of distance.  Thus the camera setting for a good exposure of the Sun would be the same, regardless of whether the photograph was taken close to the Sun (from near Venus, for example) or far away from the Sun (from near Mars, for example), so long as the Sun is resolved in the photograph. \n",
    "\n",
    "(2) Brightness is the same at the source and at the detector. Thus you can think of brightness in terms of energy flowing out of the source or as energy flowing into the detector.\n"
   ]
  },
  {
   "cell_type": "markdown",
   "metadata": {},
   "source": [
    "The Total intensity is : $I \\equiv \\int_{0}^{\\infty} I_{\\nu}d\\nu$  is also conserved.\n",
    "\n",
    "For sources that have a well-defined solid angle (not unresolved) \n",
    "\n",
    "$\\frac {dP}{d\\sigma d\\nu} = I_{\\nu} cos \\theta d\\Omega$\n",
    "\n",
    "Integrating of the sources extent gives us the flux density $S_{\\nu}$ :\n",
    "\n",
    "$S_{\\nu} \\equiv \\int_{source} I_{\\nu}(\\theta,\\phi) cos \\theta d\\Omega \\approx \\int_{source} I_{\\nu}(\\theta,\\phi) d\\Omega  $\n",
    "\n",
    "for small angular sizes."
   ]
  },
  {
   "cell_type": "markdown",
   "metadata": {},
   "source": [
    "###Example:###\n",
    "\n",
    "What is the specific intensity of the Sun at $\\nu=10$GHz (measured at the Earth) if the Sun is a nearly ideal blackbody with temperature $T\\approx 5800$K?\n",
    "\n",
    "Since 10GHz is below the turnover point in the black body spectrum we can use the Rayleigh-Jeans approximation.\n",
    "\n",
    "$I_{\\nu} = B_{\\nu} \\approx \\frac {2kT\\nu^2}{c^2}$ \n",
    "\n",
    "for the spectral brightness of a blackbody."
   ]
  },
  {
   "cell_type": "code",
   "execution_count": 11,
   "metadata": {
    "collapsed": false
   },
   "outputs": [
    {
     "name": "stdout",
     "output_type": "stream",
     "text": [
      "I = 1.781130e-16\n"
     ]
    }
   ],
   "source": [
    "k = 1.380e-23   #J/K\n",
    "T = 5800.       #K\n",
    "nu = 10.0**10   #Hz\n",
    "c = 299792458   #m/s\n",
    "I = (2. * k * T * nu**2)/(c**2)\n",
    "#I = (2. * 1.380e-23 * 5800.* (10.0**10 )**2)/(299792458)**2\n",
    "print \"I = %e\"%(I)"
   ]
  },
  {
   "cell_type": "markdown",
   "metadata": {},
   "source": [
    "What is the flux density of the Sun at $\\nu=10$GHz, measured at the Earth?<br>\n",
    "The Sun has a radius $R_{\\odot}=7.0* 10^{8} $m, and its distance from the Earth 1 astronomical unit (AU)  is $r_{\\odot}= 1.49598*10^{11}$ m.\n",
    "\n",
    "The angular radius of the Sun viewed from the Earth is $\\theta_{\\odot} = sin^{-1}\\left( \\frac{R_{\\odot}}{r_{\\odot}} \\right)$"
   ]
  },
  {
   "cell_type": "code",
   "execution_count": 12,
   "metadata": {
    "collapsed": false
   },
   "outputs": [
    {
     "name": "stdout",
     "output_type": "stream",
     "text": [
      "4.679224e-03 rad or 0.268100 degrees \n"
     ]
    }
   ],
   "source": [
    "rdot = 1.49598e11\n",
    "Rdot = 7.0e8\n",
    "theta = np.arcsin(Rdot/rdot)\n",
    "print \"%e rad or %f degrees \"%(theta,np.degrees(theta))"
   ]
  },
  {
   "cell_type": "markdown",
   "metadata": {},
   "source": [
    "The flux density of the sun is <br>\n",
    "$S_{\\nu} \\equiv \\int_{source} I_{\\nu}(\\theta,\\phi) cos \\theta d\\Omega$ with $d\\Omega = sin\\theta d\\theta d\\phi$"
   ]
  },
  {
   "cell_type": "code",
   "execution_count": 13,
   "metadata": {
    "collapsed": false
   },
   "outputs": [
    {
     "name": "stdout",
     "output_type": "stream",
     "text": [
      " 1.225152e-20 (W/(m^2 Hz)  or 1.225152e+06 Jy\n"
     ]
    }
   ],
   "source": [
    "from scipy import integrate\n",
    "\n",
    "def f(t):\n",
    "    return I*np.cos(t)*np.sin(t)\n",
    "\n",
    "def g(p):\n",
    "    return 1.0\n",
    "\n",
    "S = integrate.quad(g,0, 2*np.pi)[0]*integrate.quad(f, 0, theta)[0]\n",
    "print \" %e (W/(m^2 Hz)  or %e Jy\"%(S,S/10**(-26))\n"
   ]
  },
  {
   "cell_type": "markdown",
   "metadata": {},
   "source": [
    "The spectral luminosity of the Sun is  $L_{\\nu} = 4\\pi r_{\\odot}^{2} S_{\\nu} $"
   ]
  },
  {
   "cell_type": "code",
   "execution_count": 14,
   "metadata": {
    "collapsed": false
   },
   "outputs": [
    {
     "name": "stdout",
     "output_type": "stream",
     "text": [
      "L = 2.303168e-08\n"
     ]
    }
   ],
   "source": [
    "L = 4.*np.pi*rdot*S\n",
    "print \"L = %e\"%(L)"
   ]
  },
  {
   "cell_type": "markdown",
   "metadata": {},
   "source": [
    "##Questions ##\n",
    "There is a proposal to orbit a radar satellite that transmits at 94 GHz downward while moving in a polar orbit at an altitude of 500 km .  If the power is transmited over a hemisphere with a peak power of 1500W that is distrobuted uniformly over a bandwidth of 1 GHz .\n",
    "*    What is the peak flux density of this satellite when it is overhead (assuming no adsorbtion from the earths atmosphere)\n",
    "*    The satellite is transmitting 3% of the time (dutycycle) what is the average power radiated and the flux density "
   ]
  },
  {
   "cell_type": "markdown",
   "metadata": {},
   "source": [
    "The intensity of the Sun peaks in the optical range at a frequency of about $3.4 \\times 10^{14}$ Hz, what is the tempreture of the Sun ? Use http://en.wikipedia.org/wiki/Wien%27s_displacement_law . if all the power is emitted between  $3 \\times 10^{14}$ Hz and  $4 \\times 10^{14}$ Hz.  how many photons per $m^2$ arrive on Earth when the Sun is overhead.  What is the power received on Earth per $m^2$? For solar power a value of 135 mW per $cm^2$ is obtained how oes this compare to your answer? \n"
   ]
  }
 ],
 "metadata": {
  "kernelspec": {
   "display_name": "Python 2",
   "language": "python",
   "name": "python2"
  },
  "language_info": {
   "codemirror_mode": {
    "name": "ipython",
    "version": 2
   },
   "file_extension": ".py",
   "mimetype": "text/x-python",
   "name": "python",
   "nbconvert_exporter": "python",
   "pygments_lexer": "ipython2",
   "version": "2.7.6"
  }
 },
 "nbformat": 4,
 "nbformat_minor": 0
}

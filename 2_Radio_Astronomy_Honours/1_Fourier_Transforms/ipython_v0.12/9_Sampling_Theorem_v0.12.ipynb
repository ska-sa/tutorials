{
 "metadata": {
  "name": "9_sampling_theorem_v0.12"
 }, 
 "nbformat": 2, 
 "worksheets": [
  {
   "cells": [
    {
     "cell_type": "markdown", 
     "source": [
      "#9. The Sampling Theorem#"
     ]
    }, 
    {
     "cell_type": "markdown", 
     "source": [
      "This notebook takes a look at the Nyquist-Shannon Sampling Theorem, from a Fourier perspective.", 
      "", 
      "A simple statement of the Sampling theorem is: <br/>", 
      "The sampling frequency should be at least twice the highest frequency contained in the signal.", 
      "", 
      "The sample frequency which meets this requirement is called the Nyquist frequency, and its reciprocal is the Nyquist rate, which is the rate the signal should be sampled at to avoid aliasing.", 
      "", 
      "So if the highest frequency in our signal is $\\nu_{max}$, our Nyquist frequency is $2\\times\\nu_{max}$, and our Nyquist rate, the rate we need to sample the signal at, is $\\Delta t = 1/ (2 \\nu_{max})$. ", 
      "", 
      "Lets explore this theorem using our Fourier skills.", 
      "", 
      "First import the necessary modules:"
     ]
    }, 
    {
     "cell_type": "code", 
     "collapsed": true, 
     "input": [
      "import numpy as np", 
      "import matplotlib.pylab as plt"
     ], 
     "language": "python", 
     "outputs": [], 
     "prompt_number": 2
    }, 
    {
     "cell_type": "markdown", 
     "source": [
      "Make our convenience functions using the fourier transform provided by numpy:"
     ]
    }, 
    {
     "cell_type": "code", 
     "collapsed": true, 
     "input": [
      "def ft(y):", 
      "    \"\"\"Returns the fourier transform of y\"\"\"", 
      "    return np.fft.fftshift(np.fft.fft(np.fft.fftshift(y)))", 
      "", 
      "def ift(y):", 
      "    \"\"\"Returns the inverse fourier transform of y\"\"\"", 
      "    return np.fft.fftshift(np.fft.ifft(np.fft.fftshift(y)))", 
      "", 
      "def ftfreqs(N,dt):", 
      "    \"\"\"Returns the Fourier frequencies\"\"\"", 
      "    return np.fft.fftshift(np.fft.fftfreq(N,dt))"
     ], 
     "language": "python", 
     "outputs": [], 
     "prompt_number": 3
    }, 
    {
     "cell_type": "markdown", 
     "source": [
      "Lets define some of the frequently used functions again, so we can play with them:"
     ]
    }, 
    {
     "cell_type": "code", 
     "collapsed": true, 
     "input": [
      "# gaussian function", 
      "def gaussian(t,sigma):", 
      "    return (1./(np.sqrt(2.*np.pi)*sigma))*np.exp(-t**2.0/(2.*sigma**2.0))"
     ], 
     "language": "python", 
     "outputs": [], 
     "prompt_number": 4
    }, 
    {
     "cell_type": "code", 
     "collapsed": true, 
     "input": [
      "# comb function", 
      "def comb(t,t_space,A):", 
      "    output = np.zeros(len(t))", 
      "    mod_array = np.array([round(i,2)%t_space for i in t])", 
      "    output[mod_array==0] = A", 
      "    return output"
     ], 
     "language": "python", 
     "outputs": [], 
     "prompt_number": 5
    }, 
    {
     "cell_type": "code", 
     "collapsed": true, 
     "input": [
      "# top-hat function", 
      "def tophat(t,width,A):", 
      "    output = np.zeros(len(t))", 
      "    output[abs(t)<width/2.0] = A", 
      "    return output"
     ], 
     "language": "python", 
     "outputs": [], 
     "prompt_number": 6
    }, 
    {
     "cell_type": "markdown", 
     "source": [
      "Lets create a function that is a Gaussian, but will a frequency cutoff. We can do this by multiplying our function by a tophat function in the Fourier domain.", 
      "", 
      "Start off with setting up our x-axis values:", 
      "(Disclaimer - the time range set here is actually a bit of a cheat. We want to set it to an integral number of the shah/comb period we use later, just to avoid FFT folding effects. So we chose this number to be an integral multiple of the comb period we use later.)"
     ]
    }, 
    {
     "cell_type": "code", 
     "collapsed": true, 
     "input": [
      "delta_t = 1.0", 
      "t = np.arange(-780,780,delta_t)              # set x-axis value", 
      "", 
      "freqs = ftfreqs(len(t),delta_t)              # get our Fourier transform frequency values"
     ], 
     "language": "python", 
     "outputs": [], 
     "prompt_number": 7
    }, 
    {
     "cell_type": "markdown", 
     "source": [
      "What parameters shall we use? <br/>", 
      "Lets start with a Gaussian of sigma 50.0. The Fourier transform of a Gaussian with standard deviation of $\\sigma_0$ is $1/(2*\\pi*\\sigma_0)$. So the Fourier transform of our Gaussian will have a standard deviation of $1/(2*\\pi*5)$.", 
      "", 
      "Lets cut the frequency of at, say, 2.0 times the Fourier domain standard deviation."
     ]
    }, 
    {
     "cell_type": "code", 
     "collapsed": false, 
     "input": [
      "sig_0 = 50.0", 
      "h = gaussian(t,sig_0)                          # create gaussian function ", 
      " ", 
      "H = ft(h)                                      # Fourier transform", 
      "", 
      "sig_f = 1/(2.*np.pi*sig_0)", 
      "print 'time domain standard deviation:      ', sig_0", 
      "print 'frequency domain standard deviation: ', sig_f", 
      "", 
      "f_max = 2.0*sig_f", 
      "print 'maximum frequency for our signal:    ', f_max", 
      "", 
      "filter = tophat(freqs,2*f_max,1.0)             # create a top hat from -f_max to f_max, total width 2*f_max ", 
      "H_flimit = H*filter                            # multiply our FT by the top hat to cut off frequencies > f_max", 
      "", 
      "h_flimit = ift(H_flimit)"
     ], 
     "language": "python", 
     "outputs": [], 
     "prompt_number": 8
    }, 
    {
     "cell_type": "markdown", 
     "source": [
      "Now lets plot our Gaussian and our chopped-off Gaussian, to check:"
     ]
    }, 
    {
     "cell_type": "code", 
     "collapsed": false, 
     "input": [
      "fig, ax = plt.subplots(1,2,figsize=[13,4])     # create plot", 
      "", 
      "ax[0].plot(t,h,'g')", 
      "ax[0].plot(t,h_flimit,'b')", 
      "ax[0].set_xlabel('Time')", 
      "ax[0].set_ylabel('h_flimit(t) (real)')", 
      "", 
      "ax[1].plot(freqs,H.real,'g')", 
      "ax[1].plot(freqs,H_flimit.real,'b')", 
      "ax[1].plot(freqs,filter,'k:')", 
      "ax[1].set_xlabel('Frequency')", 
      "ax[1].set_ylabel('H_flimit(f) (real)')", 
      "", 
      "ax[0].set_xlim(-250.,250.)", 
      "ax[1].set_xlim(-0.04,0.04)"
     ], 
     "language": "python", 
     "outputs": [], 
     "prompt_number": 9
    }, 
    {
     "cell_type": "markdown", 
     "source": [
      "We will use our frequency-limited function h_flimit hereafter.", 
      "", 
      "The sampling theorem says we should sample at a frequency of double our max frequency to fully reconstruct our signal. So lets do that first."
     ]
    }, 
    {
     "cell_type": "code", 
     "collapsed": false, 
     "input": [
      "sample_freq = 2*f_max", 
      "sample_period = 1/sample_freq", 
      "", 
      "print 'Sample frequency: ', sample_freq", 
      "print 'Sample period:    ', sample_period"
     ], 
     "language": "python", 
     "outputs": [], 
     "prompt_number": 10
    }, 
    {
     "cell_type": "markdown", 
     "source": [
      "We will use a shah / comb function to sample our time-domain function at the sample frequency we want. We do this by multiplying our time-domain signal by the comb to select a subset of points at regular spacings (sample it!)", 
      "", 
      "Because of how we have defined uur comb function, we want to use an integer sample period. So we will round our desired sample period down (still good enough for illustrative purposes!)"
     ]
    }, 
    {
     "cell_type": "code", 
     "collapsed": false, 
     "input": [
      "sample_period = floor(sample_period)           # round down to get integer comb period", 
      "", 
      "print 'Integer sample period: ', sample_period", 
      "", 
      "g = comb(t,sample_period,1.0)                      ", 
      "G = ft(g)                                      # Fourier transform", 
      "", 
      "fig, ax = plt.subplots(1,2,figsize=[13,4])     # create plot", 
      "", 
      "ax[0].plot(t,g,'o-')", 
      "ax[0].set_xlabel('Time')", 
      "ax[0].set_ylabel('g(t) (real)')", 
      "", 
      "ax[1].plot(freqs,G.real)", 
      "ax[1].set_xlabel('Frequency')", 
      "ax[1].set_ylabel('G(f) (real)')", 
      "", 
      "ax[0].set_xlim(-500.,500.)", 
      "ax[1].set_xlim(-0.1,0.1)"
     ], 
     "language": "python", 
     "outputs": [], 
     "prompt_number": 11
    }, 
    {
     "cell_type": "markdown", 
     "source": [
      "Now multiply our frequency limited signal h_limit by our sampling function comb, to sample our signal at the desired sampling period, then Fourier transform it:"
     ]
    }, 
    {
     "cell_type": "code", 
     "collapsed": true, 
     "input": [
      "y = h_flimit*g", 
      "", 
      "# then Fourier transform:", 
      "Y = ft(y)"
     ], 
     "language": "python", 
     "outputs": [], 
     "prompt_number": 12
    }, 
    {
     "cell_type": "markdown", 
     "source": [
      "Now plot our original (top) and sampled (bottom) time-domain function (left) and its Fourier transform (right). "
     ]
    }, 
    {
     "cell_type": "code", 
     "collapsed": false, 
     "input": [
      "fig, ax = plt.subplots(1,2,figsize=[13,4])     # create plot", 
      "", 
      "ax[0].plot(t,h_flimit,'b')", 
      "ax[0].set_xlabel('Time')", 
      "ax[0].set_ylabel('h_flimit(t) (real)')", 
      "ax[0].axhline(y=0,color='k')", 
      "", 
      "ax[1].plot(freqs,H_flimit.real,'b')", 
      "ax[1].set_xlabel('Frequency')", 
      "ax[1].set_ylabel('H_flimit(f) (real)')", 
      "ax[0].set_xlim(-500.,500.)", 
      "ax[1].set_xlim(-0.07,0.07)", 
      "", 
      "fig, ax = plt.subplots(1,2,figsize=[13,4])     # create plot", 
      "", 
      "ax[0].plot(t,y,'b-o')", 
      "ax[0].set_xlabel('Time')", 
      "ax[0].set_ylabel('y(t) (real)')", 
      "", 
      "ax[1].plot(freqs,Y.real)", 
      "ax[1].set_xlabel('Frequency')", 
      "ax[1].set_ylabel('Y(f) (real)')", 
      "ax[1].axhline(y=0,color='k')", 
      "", 
      "ax[0].set_xlim(-500.,500.)", 
      "ax[1].set_xlim(-0.07,0.07)"
     ], 
     "language": "python", 
     "outputs": [], 
     "prompt_number": 13
    }, 
    {
     "cell_type": "markdown", 
     "source": [
      "You can see on the left how multiplication by the comb has sampled our original (top) function. On the right you can see how this sampling has led to the function being repeated across the Fourier-domain function (because of the Convolution theorem!)", 
      "", 
      "On the right we see that our functions just avoid overlapping - that is because we samped at the Nyquist rate. ", 
      "", 
      "Now lets see what happens if we sample at a lower rate than the nyquist rate. Let's re-do the exercise above using a sample period of 100 (the Nyquist sample rate above is 78.5).", 
      "", 
      "Set up our new time array (it is a cheat again - now a multiple of 100)."
     ]
    }, 
    {
     "cell_type": "code", 
     "collapsed": true, 
     "input": [
      "delta_t = 1.0", 
      "t = np.arange(-800,800,delta_t)              # set x-axis value", 
      "", 
      "freqs = ftfreqs(len(t),delta_t)                # get our Fourier transform frequency values"
     ], 
     "language": "python", 
     "outputs": [], 
     "prompt_number": 14
    }, 
    {
     "cell_type": "markdown", 
     "source": [
      "Create our functions again, using the same parameters but our new time array:"
     ]
    }, 
    {
     "cell_type": "code", 
     "collapsed": true, 
     "input": [
      "h = gaussian(t,sig_0)                          # create gaussian function ", 
      " ", 
      "H = ft(h)                                      # Fourier transform", 
      "", 
      "filter = tophat(freqs,2*f_max,1.0)             # create a top hat from -f_max to f_max, total width 2*f_max ", 
      "H_flimit = H*filter                            # multiply our FT by the top hat to cut off frequencies > f_max", 
      "", 
      "h_flimit = ift(H_flimit)"
     ], 
     "language": "python", 
     "outputs": [], 
     "prompt_number": 15
    }, 
    {
     "cell_type": "markdown", 
     "source": [
      "Plot our functions again:"
     ]
    }, 
    {
     "cell_type": "code", 
     "collapsed": false, 
     "input": [
      "fig, ax = plt.subplots(1,2,figsize=[13,4])     # create plot", 
      "", 
      "ax[0].plot(t,h_flimit,'b')", 
      "ax[0].set_xlabel('Time')", 
      "ax[0].set_ylabel('h_flimit(t) (real)')", 
      "", 
      "ax[1].plot(freqs,H_flimit.real,'b')", 
      "ax[1].plot(freqs,filter,'k:')", 
      "ax[1].set_xlabel('Frequency')", 
      "ax[1].set_ylabel('H_flimit(f) (real)')", 
      "", 
      "ax[0].set_xlim(-250.,250.)", 
      "ax[1].set_xlim(-0.04,0.04)"
     ], 
     "language": "python", 
     "outputs": [], 
     "prompt_number": 16
    }, 
    {
     "cell_type": "markdown", 
     "source": [
      "Set up our sampling comb and plot it:"
     ]
    }, 
    {
     "cell_type": "code", 
     "collapsed": false, 
     "input": [
      "sample_period = 100", 
      "", 
      "g = comb(t,sample_period,1.0)                  ", 
      "G = ft(g)                                      # Fourier transform", 
      "", 
      "fig, ax = plt.subplots(1,2,figsize=[13,4])     # create plot", 
      "", 
      "ax[0].plot(t,g,'o-')", 
      "ax[0].set_xlabel('Time')", 
      "ax[0].set_ylabel('g(t) (real)')", 
      "", 
      "ax[1].plot(freqs,G.real)", 
      "ax[1].set_xlabel('Frequency')", 
      "ax[1].set_ylabel('G(f) (real)')", 
      "", 
      "ax[0].set_xlim(-500.,500.)", 
      "ax[1].set_xlim(-0.1,0.1)"
     ], 
     "language": "python", 
     "outputs": [], 
     "prompt_number": 17
    }, 
    {
     "cell_type": "markdown", 
     "source": [
      "Now multiply our frequency limited signal h_limit by our sampling function comb, to sample our signal at the desired sampling period, then Fourier transform it:"
     ]
    }, 
    {
     "cell_type": "code", 
     "collapsed": true, 
     "input": [
      "y = h_flimit*g", 
      "", 
      "# then Fourier transform:", 
      "Y = ft(y)"
     ], 
     "language": "python", 
     "outputs": [], 
     "prompt_number": 18
    }, 
    {
     "cell_type": "markdown", 
     "source": [
      "Now plot our original (top) and sampled (bottom) time-domain function (left) and its Fourier transform (right), as we did before: "
     ]
    }, 
    {
     "cell_type": "code", 
     "collapsed": false, 
     "input": [
      "fig, ax = plt.subplots(1,2,figsize=[13,4])     # create plot", 
      "", 
      "ax[0].plot(t,h_flimit,'b')", 
      "ax[0].set_xlabel('Time')", 
      "ax[0].set_ylabel('h_flimit(t) (real)')", 
      "ax[0].axhline(y=0,color='k')", 
      "", 
      "ax[1].plot(freqs,H_flimit.real,'b')", 
      "ax[1].set_xlabel('Frequency')", 
      "ax[1].set_ylabel('H_flimit(f) (real)')", 
      "ax[0].set_xlim(-500.,500.)", 
      "ax[1].set_xlim(-0.07,0.07)", 
      "", 
      "fig, ax = plt.subplots(1,2,figsize=[13,4])     # create plot", 
      "", 
      "ax[0].plot(t,y,'b-o')", 
      "ax[0].set_xlabel('Time')", 
      "ax[0].set_ylabel('y(t) (real)')", 
      "", 
      "ax[1].plot(freqs,Y.real)", 
      "ax[1].set_xlabel('Frequency')", 
      "ax[1].set_ylabel('Y(f) (real)')", 
      "ax[1].axhline(y=0,color='k')", 
      "", 
      "ax[0].set_xlim(-500.,500.)", 
      "ax[1].set_xlim(-0.07,0.07)"
     ], 
     "language": "python", 
     "outputs": [], 
     "prompt_number": 19
    }, 
    {
     "cell_type": "markdown", 
     "source": [
      "In the Fourier domain the repeating functions now overlap, with the signal added where they overlap. Part of the signal from the higher frequency end overlaps with the lower frequency end, for each repeat of the Fourier-domain function. ", 
      "", 
      "The original signal can't be recovered."
     ]
    }, 
    {
     "cell_type": "markdown", 
     "source": [
      "###Version information###"
     ]
    }, 
    {
     "cell_type": "code", 
     "collapsed": false, 
     "input": [
      "import os", 
      "import IPython", 
      "", 
      "print 'OS:          ', os.name, sys.platform", 
      "print 'Python:      ', sys.version.split()[0]", 
      "print 'IPython:     ', IPython.__version__", 
      "print 'Numpy:       ', numpy.__version__", 
      "print 'matplotlib:  ', matplotlib.__version__"
     ], 
     "language": "python", 
     "outputs": [], 
     "prompt_number": 20
    }, 
    {
     "cell_type": "code", 
     "collapsed": true, 
     "input": [], 
     "language": "python", 
     "outputs": [], 
     "prompt_number": 20
    }
   ]
  }
 ]
}
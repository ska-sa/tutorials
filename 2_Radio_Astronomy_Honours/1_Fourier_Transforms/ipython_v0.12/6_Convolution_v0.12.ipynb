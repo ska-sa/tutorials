{
 "metadata": {
  "name": "6_convolution_v0.12"
 }, 
 "nbformat": 2, 
 "worksheets": [
  {
   "cells": [
    {
     "cell_type": "markdown", 
     "source": [
      "#6. Convolution#"
     ]
    }, 
    {
     "cell_type": "markdown", 
     "source": [
      "In this notebook we do a convolution \"by hand\", by doing the flipping and shifting implied in the definition of the convolution.", 
      "", 
      "(Althought this notebook will work in notebook version 0.12 (nbversion 2), the animation is much smoother in notebook version 2.x +)", 
      "", 
      "First import the necessary modules:"
     ]
    }, 
    {
     "cell_type": "code", 
     "collapsed": true, 
     "input": [
      "import matplotlib.pylab as plt", 
      "import numpy as np", 
      "import time ", 
      "from IPython.core.display import clear_output"
     ], 
     "language": "python", 
     "outputs": [], 
     "prompt_number": 12
    }, 
    {
     "cell_type": "markdown", 
     "source": [
      "Create x-axis array for our functions:"
     ]
    }, 
    {
     "cell_type": "code", 
     "collapsed": true, 
     "input": [
      "n = np.arange(-15.,16.,1.)", 
      "Ng = len(n)", 
      "Nh = len(n)"
     ], 
     "language": "python", 
     "outputs": [], 
     "prompt_number": 13
    }, 
    {
     "cell_type": "markdown", 
     "source": [
      "Lets create some simple functions to convolve. You can change this to create your own functions later."
     ]
    }, 
    {
     "cell_type": "code", 
     "collapsed": true, 
     "input": [
      "g = np.zeros(Ng)", 
      "h = np.zeros(Nh)", 
      "", 
      "g[8] = 5.", 
      "g[9] = 4.", 
      "g[10] = 3.5", 
      "g[11] = 3.", 
      "g[12] = 2.5", 
      "g[13] = 3.", 
      "g[14] = 3.5", 
      "g[15] = 4.", 
      "", 
      "h[16] = -2.", 
      "h[17] = -2.", 
      "h[18] = -2.", 
      "h[19] = 1.", 
      "h[20] = 1.", 
      "h[21] = 1.", 
      "h[22] = 1.", 
      "h[23] = 1."
     ], 
     "language": "python", 
     "outputs": [], 
     "prompt_number": 14
    }, 
    {
     "cell_type": "markdown", 
     "source": [
      "Plot out functions:"
     ]
    }, 
    {
     "cell_type": "code", 
     "collapsed": true, 
     "input": [
      "fig, ax1 = plt.subplots(1,2,figsize=[13,3])     # create plot", 
      "", 
      "ax1[0].stem(n,g,'g-o')", 
      "ax1[0].set_xlabel('n')", 
      "ax1[0].set_ylabel('g[n]')", 
      "", 
      "ax1[1].stem(n,h,'b-o')", 
      "ax1[1].set_xlabel('n')", 
      "ax1[1].set_ylabel('h[n]')"
     ], 
     "language": "python", 
     "outputs": [], 
     "prompt_number": 15
    }, 
    {
     "cell_type": "markdown", 
     "source": [
      "The definition of a convolution is:", 
      "", 
      "$$ g(t) * h(t) = \\int_{-\\infty}^\\infty g(x) h(t-x) dx $$", 
      "", 
      "The discrete version of the convolution, for function h and g with a finite number of elements, is:", 
      "", 
      "$$ g[n] * h[n] = \\sum_{m=-M}^M g[m] h[n-m] $$", 
      "", 
      "where g[m] has supprot over m=-M to M.", 
      "", 
      "Lets determine the convolution of g and h from the definition.", 
      "<br/>", 
      "First flip h around:"
     ]
    }, 
    {
     "cell_type": "code", 
     "collapsed": true, 
     "input": [
      "h_flipped = np.zeros(Nh)", 
      "", 
      "for i in np.arange(0,Nh,1):", 
      "    h_flipped[i] = h[(Nh-1)-i]"
     ], 
     "language": "python", 
     "outputs": [], 
     "prompt_number": 16
    }, 
    {
     "cell_type": "markdown", 
     "source": [
      "And plot g and h_flipped:"
     ]
    }, 
    {
     "cell_type": "code", 
     "collapsed": true, 
     "input": [
      "fig, ax1 = plt.subplots(1,2,figsize=[13,3])     # create plot", 
      "", 
      "ax1[0].stem(n,g,'g-o')", 
      "ax1[0].set_xlabel('n')", 
      "ax1[0].set_ylabel('g[n]')", 
      "", 
      "ax1[1].stem(n,h_flipped,'b-o')", 
      "ax1[1].set_xlabel('n')", 
      "ax1[1].set_ylabel('h_flipped[n]')"
     ], 
     "language": "python", 
     "outputs": [], 
     "prompt_number": 72
    }, 
    {
     "cell_type": "markdown", 
     "source": [
      "Lets set the limits for our convolution.", 
      "", 
      "We want to watch the convolution being performed as we shift our functions over each other. So in this example we will perform the convolution over the full overlap range of the two functions."
     ]
    }, 
    {
     "cell_type": "code", 
     "collapsed": true, 
     "input": [
      "min_conv_n = min(n)-Ng/2", 
      "max_conv_n = max(n)+Ng/2", 
      "conv_n_range = np.arange(min_conv_n,max_conv_n+1,1)"
     ], 
     "language": "python", 
     "outputs": [], 
     "prompt_number": 73
    }, 
    {
     "cell_type": "code", 
     "collapsed": true, 
     "input": [
      "# set the time step to be longer if you want there to be a longer pause between plots", 
      "time_step = 0.01", 
      "", 
      "# create plot to track our convolution", 
      "fig, ax = plt.subplots(1,2,figsize=[14,4])    ", 
      "", 
      "# create our array to put the results on the convolution into", 
      "conv = [] ", 
      "", 
      "# now shift h_flipped over g, and multiply", 
      "for cn in conv_n_range:", 
      "    ", 
      "    # use index k to track the overlap", 
      "    # in terms of convolution shift, k=0 corresponds to the maximum h index shifted to the minimum g index", 
      "    #   i.e. t=15 shifted to t=-15 ", 
      "    k = int(cn)+30", 
      "  ", 
      "    # work out min and max indices of the \"shifting\" function h", 
      "    if k<=(Nh-1):", 
      "        h_low = (Nh-1)-k", 
      "    else:", 
      "        h_low = 0", 
      "    ", 
      "    if k<(Ng-1):", 
      "        h_high = Nh-1", 
      "    else:", 
      "        h_high = (Nh-1)-(k-(Ng-1))", 
      "        ", 
      "    # work out min and max indices of the \"static\" function g", 
      "    if k<=(Nh-1):", 
      "       g_high = (Ng-1) - h_low ", 
      "    else:", 
      "       g_high = Ng-1", 
      "", 
      "    if k<(Ng-1):", 
      "        g_low = 0", 
      "    else:", 
      "        g_low = (Ng-1) - h_high", 
      "        ", 
      "    # the indices that overlap between the two for this shift:", 
      "    h_indices = np.arange(h_low, h_high+1) ", 
      "    g_indices = np.arange(g_low, g_high+1)", 
      "    ", 
      "    # multiply the overlapping function region together, index by index", 
      "    multiply_array = np.zeros(len(h_indices))", 
      "    for i, [gi, hi] in enumerate(zip(g_indices,h_indices)):", 
      "        multiply_array[i] = g[gi] * h_flipped[hi]", 
      "      ", 
      "    # sum over thultiplied values and put into our convolution array  ", 
      "    conv.append(sum(multiply_array))    ", 
      "    ", 
      "    # plot the shifted functions", 
      "    ax[0].stem(n,g,'g-o',basefmt='k-')", 
      "    ax[0].stem(np.arange(len(h_indices))+n[0]+g_low,h_flipped[h_indices],'b-o',basefmt='') ", 
      "    ax[0].set_ylim(min(min(g),min(h)),max(max(g),max(h)))", 
      "        ", 
      "    # plot the convolution as is builds up", 
      "    ax[1].stem(np.arange(min_conv_n,cn+1),conv,'r-o',basefmt='k-')", 
      "    ax[1].set_xlim(min_conv_n,max_conv_n)", 
      "    ", 
      "    # show the plot, then get ready for the next plot", 
      "    plt.draw()", 
      "    time.sleep(time_step)", 
      "    clear_output()", 
      "    display(fig)", 
      "    ax[0].cla()", 
      "    ax[1].cla()", 
      "    ", 
      "plt.close()"
     ], 
     "language": "python", 
     "outputs": [], 
     "prompt_number": 79
    }, 
    {
     "cell_type": "markdown", 
     "source": [
      "Lets check this against the numpy convolve function:"
     ]
    }, 
    {
     "cell_type": "code", 
     "collapsed": true, 
     "input": [
      "# we use mode full to convolve over the full extent of the functions, as we did above", 
      "numpy_conv = np.convolve(g,h,mode='full')"
     ], 
     "language": "python", 
     "outputs": [], 
     "prompt_number": 80
    }, 
    {
     "cell_type": "code", 
     "collapsed": true, 
     "input": [
      "# create plot", 
      "fig, ax = plt.subplots(1,1,figsize=[13,6])", 
      "", 
      "ax.stem(conv_n_range,numpy_conv,linefmt='g:',markerfmt='g.',basefmt='k-')", 
      "markerline, stemlines, baseline = ax.stem(conv_n_range,conv,linefmt='r:',markerfmt='ro',basefmt='k-')", 
      "setp(markerline, 'fillstyle', 'none')", 
      "", 
      "ax.set_xlabel('n')", 
      "ax.set_ylabel('h[n] * g[n]')"
     ], 
     "language": "python", 
     "outputs": [], 
     "prompt_number": 81
    }, 
    {
     "cell_type": "markdown", 
     "source": [
      "In the plot above, the numpy convolution is green points and the convolution we calculated manually is open red cirrcles - which overlap."
     ]
    }, 
    {
     "cell_type": "code", 
     "collapsed": true, 
     "input": [], 
     "language": "python", 
     "outputs": [], 
     "prompt_number": "&nbsp;"
    }
   ]
  }
 ]
}
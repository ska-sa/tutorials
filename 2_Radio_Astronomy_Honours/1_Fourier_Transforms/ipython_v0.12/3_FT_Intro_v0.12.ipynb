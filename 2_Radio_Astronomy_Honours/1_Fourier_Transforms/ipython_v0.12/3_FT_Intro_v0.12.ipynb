{
 "metadata": {
  "name": "3_FT_intro_v0.12"
 }, 
 "nbformat": 2, 
 "worksheets": [
  {
   "cells": [
    {
     "cell_type": "markdown", 
     "source": [
      "#3. Intro to the Fourier Transform#"
     ]
    }, 
    {
     "cell_type": "markdown", 
     "source": [
      "Some introductory notes, before we start doing some Fourier transforms in the next notebook.", 
      "", 
      "First import the necessary modules:"
     ]
    }, 
    {
     "cell_type": "code", 
     "collapsed": true, 
     "input": [
      "import matplotlib.pylab as plt", 
      "import numpy as np"
     ], 
     "language": "python", 
     "outputs": [], 
     "prompt_number": 2
    }, 
    {
     "cell_type": "markdown", 
     "source": [
      "##Degrees and Radians##"
     ]
    }, 
    {
     "cell_type": "markdown", 
     "source": [
      "From trignometry we can recall that the amplitude (A) is the height of the sine (or periodic) signal, while the period ($\\theta$) is the point at which the cycle that represent the signal repeats.", 
      "", 
      "$y = A \\sin \\theta$, with $0<= \\theta <= 360^\\circ$, where $\\theta = \\omega t = 2\\pi f t$"
     ]
    }, 
    {
     "cell_type": "code", 
     "collapsed": false, 
     "input": [
      "x=np.arange(0,370,10)", 
      "y=np.sin(np.radians(x))", 
      "", 
      "plt.plot(x,y)", 
      "plt.axhline(y=0,color='r')", 
      "plt.axvline(x=90, color='g', linestyle=':')", 
      "plt.ylabel('Amplitude')", 
      "plt.xlabel('Degrees')", 
      "plt.title('Sine')"
     ], 
     "language": "python", 
     "outputs": [], 
     "prompt_number": 3
    }, 
    {
     "cell_type": "markdown", 
     "source": [
      "This is the same as 0<=\u03b8<=2\u03c0 radians (remember 360\u2218=2\u03c0 radians)"
     ]
    }, 
    {
     "cell_type": "code", 
     "collapsed": false, 
     "input": [
      "x=np.arange(0,2*np.pi+0.01,0.01)", 
      "y=np.sin(x)", 
      "", 
      "plt.plot(x,y)", 
      "plt.axhline(y=0,color='r')", 
      "plt.axvline(x=np.pi/2, color='g', linestyle=':')", 
      "plt.ylabel('Amplitude')", 
      "plt.xlabel('Radians')", 
      "plt.title('Sine')"
     ], 
     "language": "python", 
     "outputs": [], 
     "prompt_number": 4
    }, 
    {
     "cell_type": "markdown", 
     "source": [
      "##Sampling and Discrete time##"
     ]
    }, 
    {
     "cell_type": "markdown", 
     "source": [
      "We represent continuous mathematical functions in our code using a number of samples selected at regular intervals along the function.", 
      "", 
      "Lets define the period center around 0 radians, which means the signal will be represented by the cycle between -\u03c0 and \u03c0.", 
      "We will then also select samples along the continuous signals at specific points, eg. every 0.1 radians."
     ]
    }, 
    {
     "cell_type": "code", 
     "collapsed": false, 
     "input": [
      "x=np.arange(-np.pi,np.pi,0.01)   ", 
      "y=np.sin(x)", 
      "", 
      "plt.plot(x,y,'b')", 
      "plt.plot(x[::10],y[::10],'r.')       # this is python slice notation to select every tenth point from x and y"
     ], 
     "language": "python", 
     "outputs": [], 
     "prompt_number": 5
    }, 
    {
     "cell_type": "markdown", 
     "source": [
      "If the blue curve above represents a continuous mathematical function, the red points illustrate sampling the function at regular intervals. ", 
      "This is what we do when we simulate a function from discrete points using python, and also what we do when we collect real data: sample a continuous time signal at regular discrete points. ", 
      "", 
      "So we now have N samples to represent the continious signal. "
     ]
    }, 
    {
     "cell_type": "markdown", 
     "source": [
      "###Version information###"
     ]
    }, 
    {
     "cell_type": "code", 
     "collapsed": false, 
     "input": [
      "import os", 
      "import IPython", 
      "", 
      "print 'OS:          ', os.name, sys.platform", 
      "print 'Python:      ', sys.version.split()[0]", 
      "print 'IPython:     ', IPython.__version__", 
      "print 'Numpy:       ', numpy.__version__", 
      "print 'matplotlib:  ', matplotlib.__version__"
     ], 
     "language": "python", 
     "outputs": [], 
     "prompt_number": 6
    }
   ]
  }
 ]
}
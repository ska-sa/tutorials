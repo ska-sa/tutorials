{
 "metadata": {
  "name": "1_square_wave_v0.12"
 }, 
 "nbformat": 2, 
 "worksheets": [
  {
   "cells": [
    {
     "cell_type": "markdown", 
     "source": [
      "#1. Approximating a square wave function as a sum of sines#"
     ]
    }, 
    {
     "cell_type": "markdown", 
     "source": [
      "In this notebook we approximate a square wave by adding up sucessive sine waves (of specific frequency and amplitude).", 
      "", 
      "First import the necessary modules:"
     ]
    }, 
    {
     "cell_type": "code", 
     "collapsed": true, 
     "input": [
      "import matplotlib.pylab as plt", 
      "import numpy as np", 
      "import time ", 
      "from IPython.core.display import clear_output"
     ], 
     "language": "python", 
     "outputs": [], 
     "prompt_number": 2
    }, 
    {
     "cell_type": "markdown", 
     "source": [
      "Now set up the x-values for the function:"
     ]
    }, 
    {
     "cell_type": "code", 
     "collapsed": true, 
     "input": [
      "x=np.arange(-np.pi,np.pi,0.01) "
     ], 
     "language": "python", 
     "outputs": [], 
     "prompt_number": 2
    }, 
    {
     "cell_type": "markdown", 
     "source": [
      "Now we sucessively add up a series of sine waves to make an ever-better approximation of a square wave:"
     ]
    }, 
    {
     "cell_type": "code", 
     "collapsed": true, 
     "input": [
      "# create plot", 
      "f, ax = plt.subplots(1,2,figsize=[13,3])", 
      "", 
      "# set maximum number of iterations", 
      "i_max = 20", 
      "", 
      "# initialise values", 
      "sqwave = 0.0", 
      "b = 1.0", 
      "", 
      "# for each iteration...", 
      "for i in range(1,i_max):", 
      "    # new component   ", 
      "    component = (1/b)*np.sin(b*x)", 
      "    # add that component to our existing wave", 
      "    sqwave = sqwave+component", 
      "    ", 
      "    # plot the new component on the left, the sum on the right", 
      "    ax[0].plot(x,component)", 
      "    ax[0].set_xlabel('Time')", 
      "    ax[0].set_ylabel('Amplitude (real)')", 
      "    ", 
      "    ax[1].plot(x,sqwave)", 
      "    ax[1].set_xlabel('Time')", 
      "    ax[1].set_ylabel('Amplitude (real)')", 
      "    ", 
      "    # iterate", 
      "    b=b+2", 
      "", 
      "    # show the plot, then get ready for the next plot", 
      "    plt.draw()", 
      "    time.sleep(2.0)", 
      "    clear_output()", 
      "    display(f)", 
      "    ax[1].cla()", 
      "    ", 
      "plt.close()"
     ], 
     "language": "python", 
     "outputs": [], 
     "prompt_number": 3
    }, 
    {
     "cell_type": "markdown", 
     "source": [
      "###Version information###"
     ]
    }, 
    {
     "cell_type": "code", 
     "collapsed": true, 
     "input": [
      "import os", 
      "import IPython", 
      "", 
      "print 'OS:          ', os.name, sys.platform", 
      "print 'Python:      ', sys.version.split()[0]", 
      "print 'IPython:     ', IPython.__version__", 
      "print 'Numpy:       ', numpy.__version__", 
      "print 'matplotlib:  ', matplotlib.__version__"
     ], 
     "language": "python", 
     "outputs": [], 
     "prompt_number": 12
    }, 
    {
     "cell_type": "code", 
     "collapsed": true, 
     "input": [], 
     "language": "python", 
     "outputs": [], 
     "prompt_number": "&nbsp;"
    }
   ]
  }
 ]
}
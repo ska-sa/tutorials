{
 "metadata": {
  "name": "7_convolution_theorem_v0.12"
 }, 
 "nbformat": 2, 
 "worksheets": [
  {
   "cells": [
    {
     "cell_type": "markdown", 
     "source": [
      "#7. The convolution theorem#"
     ]
    }, 
    {
     "cell_type": "markdown", 
     "source": [
      "Lets create an example of the convolution theorem.", 
      "", 
      "First import the necessary modules:"
     ]
    }, 
    {
     "cell_type": "code", 
     "collapsed": true, 
     "input": [
      "import numpy as np", 
      "import matplotlib.pylab as plt"
     ], 
     "language": "python", 
     "outputs": [], 
     "prompt_number": 2
    }, 
    {
     "cell_type": "markdown", 
     "source": [
      "Make our convenience functions using the fourier transform provided by numpy (don't worry about the details of this now!):"
     ]
    }, 
    {
     "cell_type": "code", 
     "collapsed": true, 
     "input": [
      "def ft(y):", 
      "    \"\"\"Returns the fourier transform of y\"\"\"", 
      "    return np.fft.fftshift(np.fft.fft(np.fft.fftshift(y)))", 
      "", 
      "def ift(y):", 
      "    \"\"\"Returns the inverse fourier transform of y\"\"\"", 
      "    return np.fft.fftshift(np.fft.ifft(np.fft.fftshift(y)))", 
      "", 
      "def ftfreqs(N,dt):", 
      "    \"\"\"Returns the Fourier frequencies\"\"\"", 
      "    return np.fft.fftshift(np.fft.fftfreq(N,dt))"
     ], 
     "language": "python", 
     "outputs": [], 
     "prompt_number": 3
    }, 
    {
     "cell_type": "markdown", 
     "source": [
      "Lets define some of the frequently used functions again, so we can play with them:"
     ]
    }, 
    {
     "cell_type": "code", 
     "collapsed": true, 
     "input": [
      "# constant function of amplitude A", 
      "def constant(t,A):", 
      "    return A*np.ones(len(t))"
     ], 
     "language": "python", 
     "outputs": [], 
     "prompt_number": 4
    }, 
    {
     "cell_type": "code", 
     "collapsed": true, 
     "input": [
      "# spike of amplitude A at given value of t", 
      "def spike(t,t0,A):", 
      "    output = np.zeros(len(t))", 
      "    output[t==t0] = A", 
      "    print sum(t==t0)", 
      "    return output"
     ], 
     "language": "python", 
     "outputs": [], 
     "prompt_number": 5
    }, 
    {
     "cell_type": "code", 
     "collapsed": true, 
     "input": [
      "# top-hat function", 
      "def tophat(t,width,A):", 
      "    output = np.zeros(len(t))", 
      "    output[abs(t)<width/2.0] = A", 
      "    return output"
     ], 
     "language": "python", 
     "outputs": [], 
     "prompt_number": 6
    }, 
    {
     "cell_type": "code", 
     "collapsed": true, 
     "input": [
      "# sinc function", 
      "def sincfunc(t,scale):", 
      "    return sinc(t/scale)"
     ], 
     "language": "python", 
     "outputs": [], 
     "prompt_number": 7
    }, 
    {
     "cell_type": "code", 
     "collapsed": true, 
     "input": [
      "# gaussian function", 
      "def gaussian(t,sigma):", 
      "    return (1./(np.sqrt(2.*np.pi)*sigma))*np.exp(-t**2.0/(2.0*sigma**2.0))"
     ], 
     "language": "python", 
     "outputs": [], 
     "prompt_number": 8
    }, 
    {
     "cell_type": "code", 
     "collapsed": true, 
     "input": [
      "# comb function", 
      "def comb(t,t_space,A):", 
      "    output = np.zeros(len(t))", 
      "    mod_array = np.array([round(i,2)%t_space for i in t])", 
      "    output[mod_array==0] = A", 
      "    return output"
     ], 
     "language": "python", 
     "outputs": [], 
     "prompt_number": 9
    }, 
    {
     "cell_type": "markdown", 
     "source": [
      "##The convolution theorem##", 
      "", 
      "Remember the convolution theorem:", 
      "<br/>", 
      "<br/>", 
      "$$ h * g \\;\\; \\Leftrightarrow \\;\\; H \\; . \\; G $$", 
      "<br/>", 
      "or, equivalently:", 
      "<br/>", 
      "<br/>", 
      "$$ H * G \\;\\; \\Leftrightarrow \\;\\; h \\; . \\; g $$", 
      "", 
      "<br/>", 
      "", 
      "For this example, lets use:", 
      "", 
      "h - cosine function", 
      "<br/>", 
      "g - sinc function", 
      "", 
      "Then lets:", 
      "", 
      "* Fourier transforms $h(t)$ and $g(t)$ to get $H(f)$ and $G(f)$", 
      "* Convolve the Fourier transforms: $Y(f) = H(f) * G(f)$", 
      "* Take the reverse Fourier transform of $Y(f)$ to get $y(t)$", 
      "* See what we get!"
     ]
    }, 
    {
     "cell_type": "code", 
     "collapsed": true, 
     "input": [
      "delta_t = 0.02", 
      "t = np.arange(-1200,1200,delta_t)              # set x-axis value", 
      "", 
      "freqs = ftfreqs(len(t),delta_t)                # get our Fourier transform frequency values"
     ], 
     "language": "python", 
     "outputs": [], 
     "prompt_number": 10
    }, 
    {
     "cell_type": "code", 
     "collapsed": false, 
     "input": [
      "h = 5.0*np.cos(2.*pi*t*0.5)                    # create function f(t)", 
      "H = ft(h)                                      # Fourier transform", 
      "", 
      "fig, ax = plt.subplots(1,2,figsize=[13,3])     # create plot", 
      "", 
      "ax[0].plot(t,h.real)", 
      "ax[0].set_xlabel('Time')", 
      "ax[0].set_ylabel('h(t) (real)')", 
      "", 
      "ax[1].plot(freqs,H.real)", 
      "ax[1].set_xlabel('Frequency')", 
      "ax[1].set_ylabel('H(f) (real)')", 
      "", 
      "ax[0].set_xlim(-50.,50.)", 
      "ax[1].set_xlim(-0.7,0.7)"
     ], 
     "language": "python", 
     "outputs": [], 
     "prompt_number": 11
    }, 
    {
     "cell_type": "code", 
     "collapsed": false, 
     "input": [
      "g = sincfunc(t,20.)                            # create function f(t)", 
      "G = ft(g)                                      # Fourier transform", 
      "", 
      "fig, ax = plt.subplots(1,2,figsize=[13,3])     # create plot", 
      "", 
      "ax[0].plot(t,g)", 
      "ax[0].set_xlabel('Time')", 
      "ax[0].set_ylabel('g(t) (real)')", 
      "", 
      "ax[1].plot(freqs,G.real)", 
      "ax[1].set_xlabel('Frequency')", 
      "ax[1].set_ylabel('G(f) (real)')", 
      "", 
      "ax[0].set_xlim(-150.,150.)", 
      "ax[1].set_xlim(-0.7,0.7)"
     ], 
     "language": "python", 
     "outputs": [], 
     "prompt_number": 12
    }, 
    {
     "cell_type": "code", 
     "collapsed": true, 
     "input": [
      "# lets convolve our Fourier transformed functions, using the numpy convolve function:", 
      "Y = np.convolve(H,G,mode='same')", 
      "# then reverse Fourier transform:", 
      "y = ift(Y)"
     ], 
     "language": "python", 
     "outputs": [], 
     "prompt_number": 13
    }, 
    {
     "cell_type": "code", 
     "collapsed": false, 
     "input": [
      "fig, ax = plt.subplots(1,2,figsize=[13,3])     # create plot", 
      "", 
      "ax[0].plot(t,y.real)", 
      "ax[0].set_xlabel('Time')", 
      "ax[0].set_ylabel('y(t) (real)')", 
      "", 
      "ax[1].plot(freqs,Y.real)", 
      "ax[1].set_xlabel('Frequency')", 
      "ax[1].set_ylabel('Y(f) (real)')", 
      "", 
      "ax[0].set_xlim(-80.,80.)", 
      "ax[1].set_xlim(-0.7,0.7)"
     ], 
     "language": "python", 
     "outputs": [], 
     "prompt_number": 14
    }, 
    {
     "cell_type": "markdown", 
     "source": [
      "Is that what you expect?", 
      "", 
      "Lets plot all the plots together, so we can think about them:"
     ]
    }, 
    {
     "cell_type": "code", 
     "collapsed": false, 
     "input": [
      "fig, ax = plt.subplots(3,2,figsize=[13,9]) ", 
      "", 
      "# plot h and H", 
      "ax[0,0].plot(t,h)", 
      "ax[0,0].set_ylabel('h(t) (real)')", 
      "", 
      "ax[0,1].plot(freqs,H.real)", 
      "ax[0,1].set_ylabel('H(f) (real)')", 
      "", 
      "ax[0,0].set_xlim(-50.,50.)", 
      "ax[0,1].set_xlim(-0.7,0.7)", 
      "", 
      "# plot g and G", 
      "ax[1,0].plot(t,g)", 
      "ax[1,0].set_ylabel('g(t) (real)')", 
      "", 
      "ax[1,1].plot(freqs,G.real)", 
      "ax[1,1].set_ylabel('G(f) (real)')", 
      "", 
      "ax[1,0].set_xlim(-100.,100.)", 
      "ax[1,1].set_xlim(-0.7,0.7)", 
      "", 
      "# plot y and Y", 
      "ax[2,0].plot(t,y)", 
      "ax[2,0].set_xlabel('Time')", 
      "ax[2,0].set_ylabel('y(t) (real)')", 
      "", 
      "ax[2,1].plot(freqs,Y.real)", 
      "ax[2,1].set_xlabel('Frequency')", 
      "ax[2,1].set_ylabel('Y(f) (real)')", 
      "", 
      "ax[2,0].set_xlim(-100.,100.)", 
      "ax[2,1].set_xlim(-0.7,0.7)"
     ], 
     "language": "python", 
     "outputs": [], 
     "prompt_number": 15
    }, 
    {
     "cell_type": "markdown", 
     "source": [
      "Can you explain these results?", 
      "", 
      "How about playing with some of the other functions we defined at the beginning... :)"
     ]
    }, 
    {
     "cell_type": "markdown", 
     "source": [
      "###Version information###"
     ]
    }, 
    {
     "cell_type": "code", 
     "collapsed": false, 
     "input": [
      "import os", 
      "import IPython", 
      "", 
      "print 'OS:          ', os.name, sys.platform", 
      "print 'Python:      ', sys.version.split()[0]", 
      "print 'IPython:     ', IPython.__version__", 
      "print 'Numpy:       ', numpy.__version__", 
      "print 'matplotlib:  ', matplotlib.__version__"
     ], 
     "language": "python", 
     "outputs": [], 
     "prompt_number": 16
    }
   ]
  }
 ]
}
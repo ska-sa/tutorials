{
 "metadata": {
  "name": "4_FT_v0.12"
 }, 
 "nbformat": 2, 
 "worksheets": [
  {
   "cells": [
    {
     "cell_type": "markdown", 
     "source": [
      "#4. The Fourier Transform#"
     ]
    }, 
    {
     "cell_type": "markdown", 
     "source": [
      "Lets do some Fourier transforms!", 
      "", 
      "First import the necessary modules:"
     ]
    }, 
    {
     "cell_type": "code", 
     "collapsed": true, 
     "input": [
      "import numpy as np", 
      "import matplotlib.pylab as plt"
     ], 
     "language": "python", 
     "outputs": [], 
     "prompt_number": 2
    }, 
    {
     "cell_type": "markdown", 
     "source": [
      "Lets create a function which we will fourier transform. ", 
      "<br /> ", 
      "For now lets add together two cos functions with different periods and amplitudes. You can play with this later and create your own function."
     ]
    }, 
    {
     "cell_type": "code", 
     "collapsed": false, 
     "input": [
      "# create an array of x-axis values, from 0 to 1000, with step size of 1", 
      "delta_n = 1.0", 
      "n_array = np.arange(0,1000.,delta_n)", 
      "", 
      "# create two cos functions with specified periods and amplitudes", 
      "P1 = 100.", 
      "A1 = 1.0", 
      "fn1 = A1*np.cos(2.*np.pi*n_array/P1) ", 
      "", 
      "P2 = 50.", 
      "A2 = 0.5", 
      "fn2 = A2*np.cos(2.*np.pi*n_array/P2)", 
      "", 
      "# add the functions to form our array x to Fourier transform", 
      "x_array = fn1 + fn2", 
      "", 
      "# print the periods and frequencies of the two components of our x array", 
      "print 'Periods:     ', P1, '  ', P2", 
      "print 'Frequencies: ', 1./P1, '   ', 1./P2"
     ], 
     "language": "python", 
     "outputs": [], 
     "prompt_number": 3
    }, 
    {
     "cell_type": "code", 
     "collapsed": false, 
     "input": [
      "# plot our x array", 
      "plt.plot(n_array,x_array)", 
      "plt.xlabel('time')", 
      "plt.ylabel('f(t)')", 
      "plt.show() "
     ], 
     "language": "python", 
     "outputs": [], 
     "prompt_number": 4
    }, 
    {
     "cell_type": "markdown", 
     "source": [
      "## Discrete Fourier Transform (DFT) ", 
      "", 
      "Now we want to take the Fourier transform of our x array.", 
      "", 
      "Lets remind ourselves of the definition of the Discrete Fourier Transform:", 
      "", 
      "$$X(k) = \\sum_{n=0}^{N-1} x(n) e^{-i 2 \\pi n \\frac{k}{N} }$$", 
      "", 
      "where:", 
      "", 
      "* $x(n)$ is the $n$th sample for the time-domain function (the DFT input).", 
      "* $N$ is the total number of samples.", 
      "* $X(k)$ is the output of the DFT for values of $k$ ranging from $-(N/2-1)$ to $N/2$.", 
      "* The integer values k correspond to frequencies $k/N$."
     ]
    }, 
    {
     "cell_type": "code", 
     "collapsed": true, 
     "input": [
      "N = len(n_array)", 
      "k_array = np.arange(-(N/2.0-1.0),N/2.0,1.0)", 
      "", 
      "X = np.zeros(len(k_array), dtype=np.complex)", 
      "", 
      "# iterate over the fourier-space variable k", 
      "for k_indx,k in enumerate(k_array):", 
      "    # iterate over the original-space variable n", 
      "    for n_indx,n in enumerate(n_array):", 
      "        arg = x_array[n_indx]*np.exp(-1.j*2.0*np.pi*k*n/N)", 
      "        X[k_indx] = X[k_indx] + arg"
     ], 
     "language": "python", 
     "outputs": [], 
     "prompt_number": 5
    }, 
    {
     "cell_type": "code", 
     "collapsed": false, 
     "input": [
      "# create plot", 
      "f, ax = plt.subplots(1,2,figsize=[13,3])", 
      "", 
      "ax[0].plot(k_array/N,X.real,'o-')", 
      "ax[0].set_xlabel('Frequency')", 
      "ax[0].set_ylabel('Real')", 
      "", 
      "ax[1].plot(k_array/N,X.imag,'o-')", 
      "ax[1].set_xlabel('Frequency')", 
      "ax[1].set_ylabel('Imag')"
     ], 
     "language": "python", 
     "outputs": [], 
     "prompt_number": 6
    }, 
    {
     "cell_type": "markdown", 
     "source": [
      "Lets take a closer look at the real plot on the left:"
     ]
    }, 
    {
     "cell_type": "code", 
     "collapsed": false, 
     "input": [
      "plt.stem(k_array/N,X.real)", 
      "plt.xlabel('Frequency')", 
      "plt.ylabel('Amplitude')", 
      "plt.xlim(0,0.05)", 
      "plt.ylim(-10,510)"
     ], 
     "language": "python", 
     "outputs": [], 
     "prompt_number": 7
    }, 
    {
     "cell_type": "markdown", 
     "source": [
      "So we are seeing the Fourier Transform components of the two cos functions comprising our signal, at the frequencies we set them to: f1 and f2.", 
      "", 
      "Some questions to think about:", 
      "", 
      "* Why are the amplitudes different to the amplitudes A1 and A2 that we used to create the function?", 
      "* Why are there four spikes in the original unzoomed Fourier transform plot?"
     ]
    }, 
    {
     "cell_type": "markdown", 
     "source": [
      "###Version information###"
     ]
    }, 
    {
     "cell_type": "code", 
     "collapsed": false, 
     "input": [
      "import os", 
      "import IPython", 
      "", 
      "print 'OS:          ', os.name, sys.platform", 
      "print 'Python:      ', sys.version.split()[0]", 
      "print 'IPython:     ', IPython.__version__", 
      "print 'Numpy:       ', numpy.__version__", 
      "print 'matplotlib:  ', matplotlib.__version__"
     ], 
     "language": "python", 
     "outputs": [], 
     "prompt_number": 8
    }
   ]
  }
 ]
}
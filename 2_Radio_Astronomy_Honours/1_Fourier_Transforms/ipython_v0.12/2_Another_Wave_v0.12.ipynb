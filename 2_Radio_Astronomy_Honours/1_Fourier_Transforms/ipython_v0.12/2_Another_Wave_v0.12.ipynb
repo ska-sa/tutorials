{
 "metadata": {
  "name": "2_another_wave_v0.12"
 }, 
 "nbformat": 2, 
 "worksheets": [
  {
   "cells": [
    {
     "cell_type": "markdown", 
     "source": [
      "#2. Approximating another 'mystery' function as a sum of sines and cosines#"
     ]
    }, 
    {
     "cell_type": "markdown", 
     "source": [
      "Now lets try a different function...", 
      "", 
      "First import the necessary modules:"
     ]
    }, 
    {
     "cell_type": "code", 
     "collapsed": true, 
     "input": [
      "import matplotlib.pylab as plt", 
      "import numpy as np", 
      "import time", 
      "from IPython.core.display import clear_output"
     ], 
     "language": "python", 
     "outputs": [], 
     "prompt_number": 1
    }, 
    {
     "cell_type": "markdown", 
     "source": [
      "Now set up the x-values for the function:"
     ]
    }, 
    {
     "cell_type": "code", 
     "collapsed": true, 
     "input": [
      "# create list of x values    ", 
      "t=np.arange(-np.pi,np.pi,0.01)  "
     ], 
     "language": "python", 
     "outputs": [], 
     "prompt_number": 2
    }, 
    {
     "cell_type": "markdown", 
     "source": [
      "Now list the frequencies and amplitudes of the waves we will use to build up our mystery wave:"
     ]
    }, 
    {
     "cell_type": "code", 
     "collapsed": true, 
     "input": [
      "# frequency and amplitudes to build up our mystery wave", 
      "freqs = np.arange(1.0,20.,2.)", 
      "Cn = np.array([(3.46565342017-254.737095318j),", 
      "        (-1.16644367406+28.4709770497j),", 
      "        (0.685571832259-10.0922164294j),", 
      "        (-0.504127833607+5.240586586j),", 
      "        (0.376217427242-3.07367121897j),", 
      "        (-0.323123561657+2.1187342583j),", 
      "        (0.256920499162-1.44821668795j),", 
      "        (-0.238383315852+1.1331307276j),", 
      "        (0.193524671284-0.829332009977j),", 
      "        (-0.189110706279+0.69953977579j)])"
     ], 
     "language": "python", 
     "outputs": [], 
     "prompt_number": 3
    }, 
    {
     "cell_type": "markdown", 
     "source": [
      "Again, lets successively add up a series of sine and cos functions to make an ever-better approximation of our new mystery function:"
     ]
    }, 
    {
     "cell_type": "code", 
     "collapsed": false, 
     "input": [
      "# create plot", 
      "f, ax = plt.subplots(1,2,figsize=[13,3])", 
      "", 
      "# set maximum number of iterations", 
      "i_max = 20", 
      "", 
      "# initialise our function", 
      "wave = 0.0", 
      "", 
      "# for each iteration...", 
      "for i in range(0,len(Cn)):", 
      "    # new component   ", 
      "    wave_amp = Cn[i]", 
      "    wave_freq = freqs[i]", 
      "    component = wave_amp*np.cos(2.*np.pi*t*wave_freq)+1.0j*wave_amp*np.sin(2.*np.pi*t*wave_freq) ", 
      "    ", 
      "    # add that component to our existing wave", 
      "    wave = wave+component", 
      "    ", 
      "    # plot the new component on the left, the sum on the right", 
      "    ax[0].plot(t,component.real)", 
      "    ax[0].set_xlabel('Time')", 
      "    ax[0].set_ylabel('Amplitude (real)')", 
      "", 
      "    ax[1].plot(t,wave.real)", 
      "    ax[1].set_xlabel('Time')", 
      "    ax[1].set_ylabel('Amplitude (real)')", 
      "    ax[1].set_ylim(-320,320)", 
      "    ", 
      "    # show the plot, then get ready for the next plot", 
      "    plt.draw()", 
      "    time.sleep(2.0)", 
      "    clear_output()", 
      "    display(f)", 
      "    ax[1].cla()", 
      "    ", 
      "plt.close()"
     ], 
     "language": "python", 
     "outputs": [], 
     "prompt_number": 4
    }, 
    {
     "cell_type": "markdown", 
     "source": [
      "What were the frequencies and amplitudes of the sine and cosine functions used to build up the triangle function?", 
      "Lets plot them (just the real parts)."
     ]
    }, 
    {
     "cell_type": "code", 
     "collapsed": false, 
     "input": [
      "plt.stem(freqs,Cn.real)", 
      "plt.xlabel('Frequency')", 
      "plt.ylabel('Amplitude (real)')"
     ], 
     "language": "python", 
     "outputs": [], 
     "prompt_number": 5
    }, 
    {
     "cell_type": "markdown", 
     "source": [
      "###In summary...###"
     ]
    }, 
    {
     "cell_type": "markdown", 
     "source": [
      "To summarise what we're seen here:", 
      "The triangle function can be approximated by the sum of a series of functions:", 
      "", 
      "$$C_n \\cos(2\\pi t f) + i \\; C_n \\sin(2\\pi t f)$$ ", 
      "", 
      "These are called the harmonics of the triangle function."
     ]
    }, 
    {
     "cell_type": "code", 
     "collapsed": false, 
     "input": [
      "# create plot", 
      "f, ax = plt.subplots(1,2,figsize=[13,3])", 
      "", 
      "# triangle function", 
      "ax[0].plot(t,wave)", 
      "ax[0].set_xlabel('Time')", 
      "ax[0].set_ylabel('Amplitude (real)')", 
      "ax[0].set_ylim(-320,320)", 
      "ax[0].set_title('Time domain')", 
      "", 
      "# harmonics", 
      "ax[1].stem(freqs,Cn.real)", 
      "ax[1].set_xlabel('Frequency')", 
      "ax[1].set_ylabel('Amplitude (real)')", 
      "ax[1].set_title('Frequency domain')"
     ], 
     "language": "python", 
     "outputs": [], 
     "prompt_number": 6
    }, 
    {
     "cell_type": "markdown", 
     "source": [
      "###Version information###"
     ]
    }, 
    {
     "cell_type": "code", 
     "collapsed": false, 
     "input": [
      "import os", 
      "import IPython", 
      "", 
      "print 'OS:          ', os.name, sys.platform", 
      "print 'Python:      ', sys.version.split()[0]", 
      "print 'IPython:     ', IPython.__version__", 
      "print 'Numpy:       ', numpy.__version__", 
      "print 'matplotlib:  ', matplotlib.__version__"
     ], 
     "language": "python", 
     "outputs": [], 
     "prompt_number": 7
    }
   ]
  }
 ]
}
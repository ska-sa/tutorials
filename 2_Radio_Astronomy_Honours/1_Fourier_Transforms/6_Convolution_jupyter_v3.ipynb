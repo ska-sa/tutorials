{
 "cells": [
  {
   "cell_type": "markdown",
   "metadata": {},
   "source": [
    "#6. Convolution#"
   ]
  },
  {
   "cell_type": "markdown",
   "metadata": {},
   "source": [
    "In this notebook we do a convolution \"by hand\", by doing the flipping and shifting implied in the definition of the convolution.\n",
    "\n",
    "(Althought this notebook will work in notebook version 0.12 (nbversion 2), the animation is much smoother in notebook version 2.x +)\n",
    "\n",
    "First import the necessary modules:"
   ]
  },
  {
   "cell_type": "code",
   "execution_count": 1,
   "metadata": {
    "collapsed": false
   },
   "outputs": [],
   "source": [
    "%matplotlib inline\n",
    "import matplotlib.pylab as plt\n",
    "import numpy as np\n",
    "import time \n",
    "from IPython.core.display import clear_output\n",
    "from IPython.core.display import display"
   ]
  },
  {
   "cell_type": "markdown",
   "metadata": {},
   "source": [
    "The definition of a convolution is:\n",
    "\n",
    "$$ g(t) * h(t) = \\int_{-\\infty}^\\infty g(x) \\cdot h(t-x) dx $$\n",
    "\n",
    "The basic steps of convolution defined in the equation:\n",
    "* flip: $h(-x)$\n",
    "* shift: $h(t-x)$\n",
    "* multiply: $g(x)h(t-x)$\n",
    "\n",
    "These steps are repeated over the whole interval $(-\\infty, \\infty)$\n",
    "\n",
    "The discrete version of the convolution, for function h and g with a finite number of elements, is:\n",
    "\n",
    "$$ g[n] * h[n] = \\sum_{m=-M}^M g[m] h[n-m] $$\n",
    "\n",
    "where g[m] has support over m=-M to M."
   ]
  },
  {
   "cell_type": "markdown",
   "metadata": {},
   "source": [
    "##Simple Impulse##"
   ]
  },
  {
   "cell_type": "markdown",
   "metadata": {},
   "source": [
    "To demonstrate how convolution works consider 2 impulse functions. We use impulse functions because the math is simple."
   ]
  },
  {
   "cell_type": "markdown",
   "metadata": {},
   "source": [
    "$$g(x) = \\left\\{\\begin{array}{rcl} 1 & if & x=2 \\\\ 2 & if & x=4 \\\\ 0 & otherwise & \\end{array} \\right. $$\n",
    "and\n",
    "$$f(x) = \\left\\{\\begin{array}{rcl} 1 & if & x=-1 \\\\ 1 & if & x=1 \\\\ 0 & otherwise & \\end{array} \\right. $$"
   ]
  },
  {
   "cell_type": "code",
   "execution_count": 2,
   "metadata": {
    "collapsed": false
   },
   "outputs": [
    {
     "data": {
      "text/plain": [
       "<matplotlib.text.Text at 0x7f2c135161d0>"
      ]
     },
     "execution_count": 2,
     "metadata": {},
     "output_type": "execute_result"
    },
    {
     "data": {
      "image/png": "[encoded data removed]",
      "text/plain": [
       "<matplotlib.figure.Figure at 0x7f2c155debd0>"
      ]
     },
     "metadata": {},
     "output_type": "display_data"
    }
   ],
   "source": [
    "x = np.arange(-10,10,1)\n",
    "g = np.zeros(x.shape)\n",
    "g[len(x)/2 + 2] = 1\n",
    "g[len(x)/2 + 4] = 2\n",
    "f = np.zeros(x.shape)\n",
    "f[len(x)/2 - 1] = 1\n",
    "f[len(x)/2 + 1] = 1\n",
    "\n",
    "# create plot\n",
    "fig, ax = plt.subplots(1,2,figsize=[13,3])\n",
    "# plot the new component on the left, the sum on the right\n",
    "ax[0].stem(x,g)\n",
    "ax[0].set_xlabel('x')\n",
    "ax[0].set_ylabel('g(x)')\n",
    "ax[1].stem(x,f)\n",
    "ax[1].set_xlabel('x')\n",
    "ax[1].set_ylabel('f(x)')"
   ]
  },
  {
   "cell_type": "markdown",
   "metadata": {},
   "source": [
    "Remember that the convolution product is associated with the shift parameter $u$. The results of convolving the 2 functions above is shown"
   ]
  },
  {
   "cell_type": "code",
   "execution_count": 4,
   "metadata": {
    "collapsed": false
   },
   "outputs": [
    {
     "data": {
      "image/png": "[encoded data removed]",
      "text/plain": [
       "<matplotlib.figure.Figure at 0x7f2c13176ed0>"
      ]
     },
     "metadata": {},
     "output_type": "display_data"
    }
   ],
   "source": [
    "# create plot\n",
    "fig, ax = plt.subplots(1,2,figsize=[13,3])\n",
    "\n",
    "# flip\n",
    "g_flip = g\n",
    "g_flip[len(x)/2 + 2] = 2\n",
    "g_flip[len(x)/2 + 4] = 1\n",
    "zero_offset = np.argmin(abs(x))\n",
    "integral=np.zeros(x.shape)\n",
    "for offset_i in range(len(x)-4):\n",
    "    offset=x[offset_i]\n",
    "# shift\n",
    "    shift=offset_i-zero_offset\n",
    "    g_shifted = np.roll(g_flip, shift)\n",
    "# multiply\n",
    "    product = g_shifted * f\n",
    "    integral[offset_i] = sum(product)\n",
    "    \n",
    "    # plot the new component on the left, the sum on the right\n",
    "    ax[0].stem(x,f,'b')\n",
    "    ax[0].stem(x,g_shifted,'r')\n",
    "    ax[0].set_xlabel('x')\n",
    "    ax[0].set_ylabel('Simple functions')\n",
    "\n",
    "    ax[1].stem(x,integral)\n",
    "    ax[1].set_xlabel('x')\n",
    "    ax[1].set_ylabel('Convolution product')\n",
    "    ax[1].set_title('Shift = %d'%shift)\n",
    "\n",
    "    # show the plot, then get ready for the next plot\n",
    "    plt.draw()\n",
    "    time.sleep(2.0)\n",
    "    clear_output(wait=True)\n",
    "    display(fig)\n",
    "    ax[0].cla()\n",
    "    \n",
    "plt.close()"
   ]
  },
  {
   "cell_type": "markdown",
   "metadata": {},
   "source": [
    "Obviously using more complex functions will result in more complex convolution results"
   ]
  },
  {
   "cell_type": "markdown",
   "metadata": {},
   "source": [
    "##More Complicated Example##"
   ]
  },
  {
   "cell_type": "markdown",
   "metadata": {},
   "source": [
    "Create x-axis array for our functions:"
   ]
  },
  {
   "cell_type": "code",
   "execution_count": 5,
   "metadata": {
    "collapsed": false
   },
   "outputs": [],
   "source": [
    "n = np.arange(-15.,16.,1.)\n",
    "Ng = len(n)\n",
    "Nh = len(n)"
   ]
  },
  {
   "cell_type": "markdown",
   "metadata": {},
   "source": [
    "Lets create some simple functions to convolve. You can change this to create your own functions later."
   ]
  },
  {
   "cell_type": "code",
   "execution_count": 6,
   "metadata": {
    "collapsed": false
   },
   "outputs": [],
   "source": [
    "g = np.zeros(Ng)\n",
    "h = np.zeros(Nh)\n",
    "\n",
    "g[8] = 5.\n",
    "g[9] = 4.\n",
    "g[10] = 3.5\n",
    "g[11] = 3.\n",
    "g[12] = 2.5\n",
    "g[13] = 3.\n",
    "g[14] = 3.5\n",
    "g[15] = 4.\n",
    "\n",
    "h[16] = -2.\n",
    "h[17] = -2.\n",
    "h[18] = -2.\n",
    "h[19] = 1.\n",
    "h[20] = 1.\n",
    "h[21] = 1.\n",
    "h[22] = 1.\n",
    "h[23] = 1."
   ]
  },
  {
   "cell_type": "markdown",
   "metadata": {},
   "source": [
    "Plot our functions:"
   ]
  },
  {
   "cell_type": "code",
   "execution_count": 7,
   "metadata": {
    "collapsed": false
   },
   "outputs": [
    {
     "data": {
      "text/plain": [
       "<matplotlib.text.Text at 0x7f2c130f75d0>"
      ]
     },
     "execution_count": 7,
     "metadata": {},
     "output_type": "execute_result"
    },
    {
     "data": {
      "image/png": "[encoded data removed]",
      "text/plain": [
       "<matplotlib.figure.Figure at 0x7f2c1315ced0>"
      ]
     },
     "metadata": {},
     "output_type": "display_data"
    }
   ],
   "source": [
    "fig, ax1 = plt.subplots(1,2,figsize=[13,3])     # create plot\n",
    "\n",
    "ax1[0].stem(n,g,'g-o')\n",
    "ax1[0].set_xlabel('n')\n",
    "ax1[0].set_ylabel('g[n]')\n",
    "\n",
    "ax1[1].stem(n,h,'b-o')\n",
    "ax1[1].set_xlabel('n')\n",
    "ax1[1].set_ylabel('h[n]')"
   ]
  },
  {
   "cell_type": "markdown",
   "metadata": {},
   "source": [
    "Lets determine the convolution of g and h from the definition.\n",
    "<br/>\n",
    "First flip h around:"
   ]
  },
  {
   "cell_type": "code",
   "execution_count": 8,
   "metadata": {
    "collapsed": false
   },
   "outputs": [],
   "source": [
    "h_flipped = np.zeros(Nh)\n",
    "\n",
    "for i in np.arange(0,Nh,1):\n",
    "    h_flipped[i] = h[(Nh-1)-i]"
   ]
  },
  {
   "cell_type": "markdown",
   "metadata": {},
   "source": [
    "And plot g and h_flipped:"
   ]
  },
  {
   "cell_type": "code",
   "execution_count": 9,
   "metadata": {
    "collapsed": false
   },
   "outputs": [
    {
     "data": {
      "text/plain": [
       "<matplotlib.text.Text at 0x7f2c126bd5d0>"
      ]
     },
     "execution_count": 9,
     "metadata": {},
     "output_type": "execute_result"
    },
    {
     "data": {
      "image/png": "[encoded data removed]",
      "text/plain": [
       "<matplotlib.figure.Figure at 0x7f2c12a1e950>"
      ]
     },
     "metadata": {},
     "output_type": "display_data"
    }
   ],
   "source": [
    "fig, ax1 = plt.subplots(1,2,figsize=[13,3])     # create plot\n",
    "\n",
    "ax1[0].stem(n,g,'g-o')\n",
    "ax1[0].set_xlabel('n')\n",
    "ax1[0].set_ylabel('g[n]')\n",
    "\n",
    "ax1[1].stem(n,h_flipped,'b-o')\n",
    "ax1[1].set_xlabel('n')\n",
    "ax1[1].set_ylabel('h_flipped[n]')"
   ]
  },
  {
   "cell_type": "markdown",
   "metadata": {},
   "source": [
    "Lets set the limits for our convolution.\n",
    "\n",
    "We want to watch the convolution being performed as we shift our functions over each other. So in this example we will perform the convolution over the full overlap range of the two functions."
   ]
  },
  {
   "cell_type": "code",
   "execution_count": 10,
   "metadata": {
    "collapsed": false
   },
   "outputs": [],
   "source": [
    "min_conv_n = min(n)-Ng/2\n",
    "max_conv_n = max(n)+Ng/2\n",
    "conv_n_range = np.arange(min_conv_n,max_conv_n+1,1)"
   ]
  },
  {
   "cell_type": "code",
   "execution_count": 11,
   "metadata": {
    "collapsed": false
   },
   "outputs": [
    {
     "data": {
      "image/png": "[encoded data removed]",
      "text/plain": [
       "<matplotlib.figure.Figure at 0x7f2c122c9c10>"
      ]
     },
     "metadata": {},
     "output_type": "display_data"
    }
   ],
   "source": [
    "# set the time step to be longer if you want there to be a longer pause between plots\n",
    "time_step = 0.01\n",
    "\n",
    "# create plot to track our convolution\n",
    "fig, ax = plt.subplots(1,2,figsize=[14,4])    \n",
    "\n",
    "# create our array to put the results on the convolution into\n",
    "conv = [] \n",
    "\n",
    "# now shift h_flipped over g, and multiply\n",
    "for cn in conv_n_range:\n",
    "    \n",
    "    # use index k to track the overlap\n",
    "    # in terms of convolution shift, k=0 corresponds to the maximum h index shifted to the minimum g index\n",
    "    #   i.e. t=15 shifted to t=-15 \n",
    "    k = int(cn)+30\n",
    "  \n",
    "    # work out min and max indices of the \"shifting\" function h\n",
    "    if k<=(Nh-1):\n",
    "        h_low = (Nh-1)-k\n",
    "    else:\n",
    "        h_low = 0\n",
    "    \n",
    "    if k<(Ng-1):\n",
    "        h_high = Nh-1\n",
    "    else:\n",
    "        h_high = (Nh-1)-(k-(Ng-1))\n",
    "        \n",
    "    # work out min and max indices of the \"static\" function g\n",
    "    if k<=(Nh-1):\n",
    "       g_high = (Ng-1) - h_low \n",
    "    else:\n",
    "       g_high = Ng-1\n",
    "\n",
    "    if k<(Ng-1):\n",
    "        g_low = 0\n",
    "    else:\n",
    "        g_low = (Ng-1) - h_high\n",
    "        \n",
    "    # the indices that overlap between the two for this shift:\n",
    "    h_indices = np.arange(h_low, h_high+1) \n",
    "    g_indices = np.arange(g_low, g_high+1)\n",
    "    \n",
    "    # multiply the overlapping function region together, index by index\n",
    "    multiply_array = np.zeros(len(h_indices))\n",
    "    for i, [gi, hi] in enumerate(zip(g_indices,h_indices)):\n",
    "        multiply_array[i] = g[gi] * h_flipped[hi]\n",
    "      \n",
    "    # sum over thultiplied values and put into our convolution array  \n",
    "    conv.append(sum(multiply_array))    \n",
    "    \n",
    "    # plot the shifted functions\n",
    "    ax[0].stem(n,g,'g-o',basefmt='k-')\n",
    "    ax[0].stem(np.arange(len(h_indices))+n[0]+g_low,h_flipped[h_indices],'b-o',basefmt='') \n",
    "    ax[0].set_ylim(min(min(g),min(h)),max(max(g),max(h)))\n",
    "        \n",
    "    # plot the convolution as is builds up\n",
    "    ax[1].stem(np.arange(min_conv_n,cn+1),conv,'r-o',basefmt='k-')\n",
    "    ax[1].set_xlim(min_conv_n,max_conv_n)\n",
    "    \n",
    "    # show the plot, then get ready for the next plot\n",
    "    plt.draw()\n",
    "    time.sleep(time_step)\n",
    "    clear_output(wait=True)\n",
    "    display(fig)\n",
    "    ax[0].cla()\n",
    "    ax[1].cla()\n",
    "    \n",
    "plt.close()"
   ]
  },
  {
   "cell_type": "markdown",
   "metadata": {},
   "source": [
    "Lets check this against the numpy convolve function:"
   ]
  },
  {
   "cell_type": "code",
   "execution_count": 12,
   "metadata": {
    "collapsed": false
   },
   "outputs": [],
   "source": [
    "# we use mode full to convolve over the full extent of the functions, as we did above\n",
    "numpy_conv = np.convolve(g,h,mode='full')"
   ]
  },
  {
   "cell_type": "code",
   "execution_count": 13,
   "metadata": {
    "collapsed": false
   },
   "outputs": [
    {
     "data": {
      "text/plain": [
       "<matplotlib.text.Text at 0x7f2c12e3f150>"
      ]
     },
     "execution_count": 13,
     "metadata": {},
     "output_type": "execute_result"
    },
    {
     "data": {
      "image/png": "[encoded data removed]",
      "text/plain": [
       "<matplotlib.figure.Figure at 0x7f2c12c89c90>"
      ]
     },
     "metadata": {},
     "output_type": "display_data"
    }
   ],
   "source": [
    "# create plot\n",
    "fig, ax = plt.subplots(1,1,figsize=[13,6])\n",
    "\n",
    "ax.stem(conv_n_range,numpy_conv,linefmt='g:',markerfmt='g.',basefmt='k-')\n",
    "markerline, stemlines, baseline = ax.stem(conv_n_range,conv,linefmt='r:',markerfmt='ro',basefmt='k-')\n",
    "plt.setp(markerline, 'fillstyle', 'none')\n",
    "\n",
    "ax.set_xlabel('n')\n",
    "ax.set_ylabel('h[n] * g[n]')"
   ]
  },
  {
   "cell_type": "markdown",
   "metadata": {},
   "source": [
    "In the plot above, the numpy convolution is green points and the convolution we calculated manually is open red cirrcles - which overlap."
   ]
  },
  {
   "cell_type": "markdown",
   "metadata": {},
   "source": [
    "##Fun Examples##"
   ]
  },
  {
   "cell_type": "markdown",
   "metadata": {},
   "source": [
    "The following examples are shown on wikipedia:\n",
    "http://en.wikipedia.org/wiki/Convolution"
   ]
  },
  {
   "cell_type": "code",
   "execution_count": 15,
   "metadata": {
    "collapsed": false
   },
   "outputs": [
    {
     "data": {
      "image/png": "[encoded data removed]",
      "text/plain": [
       "<matplotlib.figure.Figure at 0x7f2c12c16050>"
      ]
     },
     "metadata": {},
     "output_type": "display_data"
    }
   ],
   "source": [
    "# create plot\n",
    "fig, ax = plt.subplots(figsize=[13,3])\n",
    "\n",
    "# Create folding of two rectangular impulses with spiky function\n",
    "X = np.arange(-2.3, 3.8, 0.0005)\n",
    "F1= np.exp(-X)\n",
    "F1[X<=0] = 0\n",
    "F2=np.zeros(X.shape)\n",
    "F2[abs(X)<=0.5] = 1\n",
    " \n",
    "zero_offset = np.argmin(abs(X))\n",
    "\n",
    "integral=np.zeros(X.shape) #np.empty(X.shape)*np.nan\n",
    "for offset_i in range(len(X)):\n",
    "    offset=X[offset_i]\n",
    "    shift=offset_i-zero_offset\n",
    "    F2_shifted = np.roll(F2, shift)\n",
    "    product = F2_shifted*F1\n",
    "    integral[offset_i] = np.sum(product)/len(X)*(X[-1]-X[0])\n",
    "    if (np.mod(offset_i, 30)==0):\n",
    "        ax.fill_between(X, 0, product, color=\"yellow\", alpha=0.5)\n",
    "        plt.hold(True)\n",
    "        ax.plot(X, F1, 'b', X, F2_shifted, 'r', X, integral, 'k', [offset, offset], [0, 2], 'k:')\n",
    "        plt.hold(False)\n",
    "        ax.set_ylim([0, 1.1])\n",
    "        ax.set_xlim([-1.5, 3])\n",
    "        ax.set_xlabel('t')\n",
    "        ax.legend(['f(t)', 'g(t)', '(f*g)(t)'])\n",
    "        ax.grid(True)\n",
    "        # show the plot, then get ready for the next plot\n",
    "        plt.draw()\n",
    "        time.sleep(0.01)\n",
    "        clear_output(wait=True)\n",
    "        display(fig)\n",
    "        ax.cla()\n",
    "    \n",
    "plt.close()"
   ]
  },
  {
   "cell_type": "code",
   "execution_count": 16,
   "metadata": {
    "collapsed": false
   },
   "outputs": [
    {
     "data": {
      "image/png": "[encoded data removed]",
      "text/plain": [
       "<matplotlib.figure.Figure at 0x7f2c128b31d0>"
      ]
     },
     "metadata": {},
     "output_type": "display_data"
    }
   ],
   "source": [
    "# Create folding of two rectangular impulses\n",
    "fig, ax = plt.subplots(figsize=[13,3])\n",
    "X= np.arange(-2.6,3,0.001)\n",
    "F1=np.zeros(X.shape)\n",
    "F1[abs(X)<=0.5] = 1\n",
    "F2=F1\n",
    "zero_offset = np.argmin(abs(X))\n",
    "SyncFrames = np.ones(X.shape)\n",
    "SyncFrames[1:] = np.round(18.67*np.arange(1,len(X)))\n",
    "\n",
    "integral=np.zeros(X.shape)\n",
    "frame=1;\n",
    "for offset_i in range(len(X)):\n",
    "    offset=X[offset_i]\n",
    "    shift=offset_i-zero_offset\n",
    "    F2_shifted = np.roll(F2, shift)\n",
    "    product = F2_shifted*F1\n",
    "    integral[offset_i] = np.sum(product)/len(X)*(X[-1]-X[0])\n",
    " \n",
    "    if offset_i==SyncFrames[frame]:\n",
    "        frame=frame+1\n",
    "        ax.fill_between(X, 0, product, color=\"yellow\", alpha=0.5)\n",
    "        plt.hold(True)\n",
    "        ax.plot(X, F1, 'b', X, F2_shifted, 'r', X, integral, 'k', [offset, offset], [0, 2], 'k:')\n",
    "        plt.hold(False)\n",
    "        ax.set_xlim([-2.1, 2.1])\n",
    "        ax.set_ylim([0., 1.1])\n",
    "        ax.set_xlabel(r'$\\tau$ & t')\n",
    "        ax.grid(True)\n",
    "        ax.legend([r'$f(\\tau)$', r'$g(t-\\tau)$', r'$(f\\ast g)(t)$'])\n",
    "        # show the plot, then get ready for the next plot\n",
    "        plt.draw()\n",
    "        time.sleep(0.01)\n",
    "        clear_output(wait=True)\n",
    "        display(fig)\n",
    "        ax.cla()\n",
    "    \n",
    "plt.close()"
   ]
  },
  {
   "cell_type": "markdown",
   "metadata": {},
   "source": [
    "###Version information###"
   ]
  },
  {
   "cell_type": "code",
   "execution_count": 17,
   "metadata": {
    "collapsed": false
   },
   "outputs": [
    {
     "name": "stdout",
     "output_type": "stream",
     "text": [
      "OS:           posix linux2\n",
      "Python:       2.7.6\n",
      "IPython:      3.2.0-dev\n",
      "Numpy:        1.9.0\n",
      "matplotlib:   1.4.3\n"
     ]
    }
   ],
   "source": [
    "import os, sys\n",
    "import numpy\n",
    "import matplotlib\n",
    "import IPython\n",
    "\n",
    "print 'OS:          ', os.name, sys.platform\n",
    "print 'Python:      ', sys.version.split()[0]\n",
    "print 'IPython:     ', IPython.__version__\n",
    "print 'Numpy:       ', numpy.__version__\n",
    "print 'matplotlib:  ', matplotlib.__version__"
   ]
  },
  {
   "cell_type": "code",
   "execution_count": null,
   "metadata": {
    "collapsed": false
   },
   "outputs": [],
   "source": []
  }
 ],
 "metadata": {
  "kernelspec": {
   "display_name": "Python 2",
   "language": "python",
   "name": "python2"
  },
  "language_info": {
   "codemirror_mode": {
    "name": "ipython",
    "version": 2
   },
   "file_extension": ".py",
   "mimetype": "text/x-python",
   "name": "python",
   "nbconvert_exporter": "python",
   "pygments_lexer": "ipython2",
   "version": "2.7.6"
  }
 },
 "nbformat": 4,
 "nbformat_minor": 0
}
